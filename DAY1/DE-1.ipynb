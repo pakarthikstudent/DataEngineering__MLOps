{
 "cells": [
  {
   "cell_type": "code",
   "execution_count": 1,
   "id": "fa340e54-59c8-49f4-b603-0bdd979148d8",
   "metadata": {},
   "outputs": [
    {
     "name": "stdout",
     "output_type": "stream",
     "text": [
      "3.13.5 | packaged by Anaconda, Inc. | (main, Jun 12 2025, 16:37:03) [MSC v.1929 64 bit (AMD64)]\n"
     ]
    }
   ],
   "source": [
    "import sys\n",
    "print(sys.version)"
   ]
  },
  {
   "cell_type": "code",
   "execution_count": 3,
   "id": "8cc7e1b0-f132-4d40-9d28-95f6396bbace",
   "metadata": {},
   "outputs": [
    {
     "name": "stdout",
     "output_type": "stream",
     "text": [
      "10 10 10\n",
      "0x7ff84390b4c8 0x7ff84390b4c8 0x7ff84390b4c8\n",
      "0x7ff84390b4c8\n"
     ]
    }
   ],
   "source": [
    "va = 10\n",
    "vb = 10\n",
    "vc = 10\n",
    "print(va,vb,vc)\n",
    "\n",
    "# id(va) -> int\n",
    "# hex(id(va)) ->0x<address>\n",
    "\n",
    "print(hex(id(va)),hex(id(vb)),hex(id(vc)))\n",
    "print(hex(id(10)))"
   ]
  },
  {
   "cell_type": "code",
   "execution_count": 4,
   "id": "082367e7-4f76-4191-9c0d-49eb056b92b0",
   "metadata": {},
   "outputs": [
    {
     "name": "stdout",
     "output_type": "stream",
     "text": [
      "<class 'int'>\n"
     ]
    }
   ],
   "source": [
    "print(type(10))"
   ]
  },
  {
   "cell_type": "code",
   "execution_count": 5,
   "id": "5bd6835d-9c4a-433d-900f-c895603f93b7",
   "metadata": {},
   "outputs": [
    {
     "name": "stdout",
     "output_type": "stream",
     "text": [
      "0x7ff84390b4e8\n"
     ]
    }
   ],
   "source": [
    "print(hex(id(11)))"
   ]
  },
  {
   "cell_type": "code",
   "execution_count": 6,
   "id": "12740d2f-44db-4cf4-b1f0-f0d1b264631a",
   "metadata": {},
   "outputs": [
    {
     "name": "stdout",
     "output_type": "stream",
     "text": [
      "11 0x7ff84390b4e8\n"
     ]
    }
   ],
   "source": [
    "va = va + 1\n",
    "print(va,hex(id(va)))"
   ]
  },
  {
   "cell_type": "code",
   "execution_count": 7,
   "id": "ebe0d704-667d-49bc-b8c3-9074fc57f7f2",
   "metadata": {},
   "outputs": [
    {
     "name": "stdout",
     "output_type": "stream",
     "text": [
      "5500 fastApi\n"
     ]
    }
   ],
   "source": [
    "port = 5500\n",
    "app = 'fastApi'\n",
    "print(port,app)"
   ]
  },
  {
   "cell_type": "code",
   "execution_count": 8,
   "id": "984c7ead-323f-484b-b3e6-4ed271e9e7c9",
   "metadata": {},
   "outputs": [
    {
     "name": "stdout",
     "output_type": "stream",
     "text": [
      "App name is: fastApi Running port number is: 5500\n"
     ]
    }
   ],
   "source": [
    "print('App name is:',app,'Running port number is:',port) # (1)"
   ]
  },
  {
   "cell_type": "code",
   "execution_count": 9,
   "id": "d9dc931e-e0d7-47a2-9502-3496b044e02c",
   "metadata": {},
   "outputs": [
    {
     "name": "stdout",
     "output_type": "stream",
     "text": [
      "App name is:fastApi Running port number is:5500\n"
     ]
    }
   ],
   "source": [
    "print('App name is:%s Running port number is:%d'%(app,port)) # (2)"
   ]
  },
  {
   "cell_type": "code",
   "execution_count": 10,
   "id": "a0746031-041c-48b7-9f69-d5f682fa47a6",
   "metadata": {},
   "outputs": [
    {
     "name": "stdout",
     "output_type": "stream",
     "text": [
      "App name is:fastApi Running port number is:5500\n"
     ]
    }
   ],
   "source": [
    "print('App name is:{} Running port number is:{}'.format(app,port)) # (3)"
   ]
  },
  {
   "cell_type": "code",
   "execution_count": 11,
   "id": "ea6915d1-b25e-4728-b380-e967394cc943",
   "metadata": {},
   "outputs": [
    {
     "name": "stdout",
     "output_type": "stream",
     "text": [
      "App name is:fastApi Running port number is:5500\n"
     ]
    }
   ],
   "source": [
    "print(f'App name is:{app} Running port number is:{port}') #(4)"
   ]
  },
  {
   "cell_type": "code",
   "execution_count": 13,
   "id": "07a3df05-6610-408a-8cbd-3da8984d67ea",
   "metadata": {},
   "outputs": [
    {
     "name": "stdout",
     "output_type": "stream",
     "text": [
      "App name is:FastApi Running port number is:5500\n"
     ]
    }
   ],
   "source": [
    "# conditional statement - code validation \n",
    "\n",
    "if(port >5000 and port <6000):\n",
    "    app = 'FastApi' \n",
    "else:\n",
    "    app = 'demoApp'\n",
    "\n",
    "print(f'App name is:{app} Running port number is:{port}')"
   ]
  },
  {
   "cell_type": "raw",
   "id": "c54d1a11-0aa7-4efc-b3b6-c0e816981906",
   "metadata": {},
   "source": [
    "looping statement \n",
    "------------------\n",
    "1. conditional style loop\n",
    "   while \n",
    "   |-> rule 1 :initialization \n",
    "   |-> rule 2 :condition \n",
    "   |-> rule 3 : arithmetic \n",
    " initialization\n",
    " while(condition):\n",
    "     ...\n",
    "     arithmetic\n",
    "  -----------------------Vs\n",
    "2. collection style loop\n",
    "   for \n",
    "   for variable in <collection>:\n",
    "       <codeblock>  "
   ]
  },
  {
   "cell_type": "code",
   "execution_count": 14,
   "id": "95d2e983-a7a5-4714-96c2-8325742c4aa8",
   "metadata": {},
   "outputs": [
    {
     "name": "stdout",
     "output_type": "stream",
     "text": [
      "Test data ..0\n",
      "Test data ..1\n",
      "Test data ..2\n",
      "Test data ..3\n",
      "Test data ..4\n"
     ]
    }
   ],
   "source": [
    "i=0\n",
    "while(i < 5):\n",
    "    print(f'Test data ..{i}')\n",
    "    i=i+1 "
   ]
  },
  {
   "cell_type": "code",
   "execution_count": 15,
   "id": "7ae5dd9d-2410-49df-9701-0aa3c876e02d",
   "metadata": {},
   "outputs": [
    {
     "name": "stdout",
     "output_type": "stream",
     "text": [
      "Test data...a\n",
      "Test data...b\n",
      "Test data...c\n"
     ]
    }
   ],
   "source": [
    "for var in 'abc':\n",
    "    print(f'Test data...{var}')"
   ]
  },
  {
   "cell_type": "raw",
   "id": "1d28d43c-6a54-4649-8983-a437d588c831",
   "metadata": {},
   "source": [
    "python native types -- class\n",
    "====================\n",
    "int float complex bool(True False) NoneType (None)\n",
    "str bytes list tuple \n",
    "dict set"
   ]
  },
  {
   "cell_type": "raw",
   "id": "f5b079eb-6a6b-45fe-ae80-4b43fb97ea30",
   "metadata": {},
   "source": [
    "s='abc3467$@3fh' # string\n",
    "\n",
    "v=b'abc3467$@3fh' # bytes - collection of ASCII \n",
    "\n",
    "list - collection of different types of items - mutable - index based \n",
    "tuple - collection of different types of items - immutable - index based // \n",
    "dict -  collection of different types of items - mutable - key:value \n",
    "set - collection of unique items - this NOT index based ; NOT key:Value based \n",
    "\n",
    "list,tuple,dict\n",
    "-----------------//multidimensional \n",
    "list,dict combination we will use more \n",
    "----------"
   ]
  },
  {
   "cell_type": "code",
   "execution_count": 17,
   "id": "4bab6a46-9828-4024-bc12-a048713cf276",
   "metadata": {},
   "outputs": [],
   "source": [
    "# product \n",
    "# |->productName,cost,code,status\n",
    "\n",
    "pname = 'pA'\n",
    "pcode = 101\n",
    "pcost = 4589.23\n",
    "pstatus = True\n",
    "################################     \n",
    "product_info1 = ['pA',101,4589.23,True] # list - mutable \n",
    "\n",
    "product_info2 = ('pA',101,4589.23,True) # tuple - fixed record set - immutable \n",
    "\n",
    "product_info3 = {'K1':'pA','K2':101,'K3':4589.23,'K4':True} # dict - key:value - mutable "
   ]
  },
  {
   "cell_type": "code",
   "execution_count": 18,
   "id": "6a0428fa-1300-4000-bc8e-4f25534713f2",
   "metadata": {},
   "outputs": [
    {
     "name": "stdout",
     "output_type": "stream",
     "text": [
      "pA pA\n"
     ]
    }
   ],
   "source": [
    "print(product_info1[0],product_info2[0])"
   ]
  },
  {
   "cell_type": "code",
   "execution_count": 19,
   "id": "e68e5d65-c120-4b47-9a34-815dcd0498be",
   "metadata": {},
   "outputs": [],
   "source": [
    "product_info1[2]=5690.42 # we can modify an exisiting value - list - mutable"
   ]
  },
  {
   "cell_type": "code",
   "execution_count": 20,
   "id": "68328716-ef3c-4ae2-ad2e-4943addc6bb8",
   "metadata": {},
   "outputs": [
    {
     "name": "stdout",
     "output_type": "stream",
     "text": [
      "['pA', 101, 5690.42, True]\n"
     ]
    }
   ],
   "source": [
    "print(product_info1)"
   ]
  },
  {
   "cell_type": "code",
   "execution_count": 22,
   "id": "50da7901-54f0-47bb-b8b2-58bd63204f79",
   "metadata": {},
   "outputs": [
    {
     "ename": "TypeError",
     "evalue": "'tuple' object does not support item assignment",
     "output_type": "error",
     "traceback": [
      "\u001b[1;31m---------------------------------------------------------------------------\u001b[0m",
      "\u001b[1;31mTypeError\u001b[0m                                 Traceback (most recent call last)",
      "Cell \u001b[1;32mIn[22], line 1\u001b[0m\n\u001b[1;32m----> 1\u001b[0m product_info2[\u001b[38;5;241m2\u001b[39m] \u001b[38;5;241m=\u001b[39m \u001b[38;5;241m56900\u001b[39m\n",
      "\u001b[1;31mTypeError\u001b[0m: 'tuple' object does not support item assignment"
     ]
    }
   ],
   "source": [
    "product_info2[2] = 56900  # we can't modify - tuple - immutable"
   ]
  },
  {
   "cell_type": "code",
   "execution_count": 23,
   "id": "0a2c2cb3-4340-46b0-924f-5a8e56449735",
   "metadata": {},
   "outputs": [
    {
     "data": {
      "text/plain": [
       "['Data1', 'Dx', 'Data2', 345, True]"
      ]
     },
     "execution_count": 23,
     "metadata": {},
     "output_type": "execute_result"
    }
   ],
   "source": [
    "# list - mutable - we can;modify;delete\n",
    "\n",
    "L = [] \n",
    "L.append('Data1')\n",
    "L.append('Data2')\n",
    "L.append(345)\n",
    "L.append(True)\n",
    "L.insert(1,'Dx')\n",
    "L"
   ]
  },
  {
   "cell_type": "code",
   "execution_count": 24,
   "id": "de672bea-8b6c-4992-b91f-088ae38d9efe",
   "metadata": {},
   "outputs": [
    {
     "data": {
      "text/plain": [
       "True"
      ]
     },
     "execution_count": 24,
     "metadata": {},
     "output_type": "execute_result"
    }
   ],
   "source": [
    "L.pop() # remove last index "
   ]
  },
  {
   "cell_type": "code",
   "execution_count": 25,
   "id": "54a9cc2e-ec68-4026-b631-dca294058644",
   "metadata": {},
   "outputs": [
    {
     "data": {
      "text/plain": [
       "['Data1', 'Dx', 'Data2', 345]"
      ]
     },
     "execution_count": 25,
     "metadata": {},
     "output_type": "execute_result"
    }
   ],
   "source": [
    "L"
   ]
  },
  {
   "cell_type": "code",
   "execution_count": 26,
   "id": "bb52a336-622e-408f-ae93-3a4ae9c35e02",
   "metadata": {},
   "outputs": [
    {
     "data": {
      "text/plain": [
       "'Dx'"
      ]
     },
     "execution_count": 26,
     "metadata": {},
     "output_type": "execute_result"
    }
   ],
   "source": [
    "L.pop(1) # remove 1st index ->removed value"
   ]
  },
  {
   "cell_type": "code",
   "execution_count": 27,
   "id": "2ff6e487-e109-4fde-b6d4-11289fc12ba4",
   "metadata": {},
   "outputs": [
    {
     "data": {
      "text/plain": [
       "['Data1', 'Data2', 345]"
      ]
     },
     "execution_count": 27,
     "metadata": {},
     "output_type": "execute_result"
    }
   ],
   "source": [
    "L"
   ]
  },
  {
   "cell_type": "code",
   "execution_count": null,
   "id": "9196d362-780b-491d-bb66-ce64b65e6c25",
   "metadata": {},
   "outputs": [],
   "source": [
    "d={'K1':'V1'}\n",
    "\n",
    "# d['newKey']=value (or) d.setdefault('newKey',value) # add - newdata to an existing value\n",
    "\n",
    "d['oldKey'] = updatedValue # modification \n",
    "\n",
    "d.pop('inputKey') # we can delete nth data from dict"
   ]
  },
  {
   "cell_type": "code",
   "execution_count": 28,
   "id": "d73b4808-e6aa-4283-b42e-1aa31b98305b",
   "metadata": {},
   "outputs": [
    {
     "name": "stdout",
     "output_type": "stream",
     "text": [
      "{'pname': 'pB'}\n"
     ]
    }
   ],
   "source": [
    "d={'pname':'pA','pname':'pB'} # duplicate key - overwrite my existing value \n",
    "print(d)"
   ]
  },
  {
   "cell_type": "code",
   "execution_count": 30,
   "id": "37d97e2b-fb79-4b32-9afe-a5be7f8ff419",
   "metadata": {},
   "outputs": [
    {
     "name": "stdout",
     "output_type": "stream",
     "text": [
      "<class 'list'>\n"
     ]
    },
    {
     "data": {
      "text/plain": [
       "[{'pname': 'pA', 'pcost': 1000, 'pcode': 101},\n",
       " {'pname': 'pB', 'pcost': 2000, 'pcode': 102},\n",
       " {'pname': 'pC', 'pcost': 3000, 'pcode': 103}]"
      ]
     },
     "execution_count": 30,
     "metadata": {},
     "output_type": "execute_result"
    }
   ],
   "source": [
    "# list of dict\n",
    "# ----------------\n",
    "products = [{'pname':'pA','pcost':1000,'pcode':101},\n",
    "            {'pname':'pB','pcost':2000,'pcode':102},\n",
    "            {'pname':'pC','pcost':3000,'pcode':103}\n",
    "           ]\n",
    "print(type(products))\n",
    "products"
   ]
  },
  {
   "cell_type": "code",
   "execution_count": 31,
   "id": "9cd2a7c3-e931-495d-ab59-50cdf90c2c42",
   "metadata": {},
   "outputs": [
    {
     "data": {
      "text/plain": [
       "{'pname': 'pA', 'pcost': 1000, 'pcode': 101}"
      ]
     },
     "execution_count": 31,
     "metadata": {},
     "output_type": "execute_result"
    }
   ],
   "source": [
    "products[0]"
   ]
  },
  {
   "cell_type": "code",
   "execution_count": 32,
   "id": "f43aff81-ae62-47cd-bf42-58d9f370de36",
   "metadata": {},
   "outputs": [
    {
     "data": {
      "text/plain": [
       "{'pname': 'pB', 'pcost': 2000, 'pcode': 102}"
      ]
     },
     "execution_count": 32,
     "metadata": {},
     "output_type": "execute_result"
    }
   ],
   "source": [
    "products[1]"
   ]
  },
  {
   "cell_type": "code",
   "execution_count": 33,
   "id": "a844e024-5708-44f9-aeb3-9e7085d32ed4",
   "metadata": {},
   "outputs": [
    {
     "data": {
      "text/plain": [
       "'pB'"
      ]
     },
     "execution_count": 33,
     "metadata": {},
     "output_type": "execute_result"
    }
   ],
   "source": [
    "products[1]['pname'] "
   ]
  },
  {
   "cell_type": "code",
   "execution_count": 34,
   "id": "8ffcc0f4-3601-4bae-a32c-69c6893cff00",
   "metadata": {},
   "outputs": [
    {
     "data": {
      "text/plain": [
       "2000"
      ]
     },
     "execution_count": 34,
     "metadata": {},
     "output_type": "execute_result"
    }
   ],
   "source": [
    "products[1]['pcost']"
   ]
  },
  {
   "cell_type": "code",
   "execution_count": 35,
   "id": "da32dd72-3be9-4802-a602-5c4000fa2951",
   "metadata": {},
   "outputs": [
    {
     "data": {
      "text/plain": [
       "{'K1': ['pA', 101, 1000], 'K2': ['pB', 102, 2000], 'K3': ['pC', 103, 3000]}"
      ]
     },
     "execution_count": 35,
     "metadata": {},
     "output_type": "execute_result"
    }
   ],
   "source": [
    "# dict of list\n",
    "# d={'Key1':[]}\n",
    "\n",
    "products={'K1':['pA',101,1000],'K2':['pB',102,2000],'K3':['pC',103,3000]}\n",
    "products"
   ]
  },
  {
   "cell_type": "code",
   "execution_count": 36,
   "id": "1b74ecf1-ad10-4b1d-b23a-59647fa09980",
   "metadata": {},
   "outputs": [
    {
     "data": {
      "text/plain": [
       "['pA', 101, 1000]"
      ]
     },
     "execution_count": 36,
     "metadata": {},
     "output_type": "execute_result"
    }
   ],
   "source": [
    "products['K1']"
   ]
  },
  {
   "cell_type": "code",
   "execution_count": 37,
   "id": "43d56c1c-f50b-4b17-9411-4330828ef3ae",
   "metadata": {},
   "outputs": [
    {
     "data": {
      "text/plain": [
       "'pA'"
      ]
     },
     "execution_count": 37,
     "metadata": {},
     "output_type": "execute_result"
    }
   ],
   "source": [
    "products['K1'][0]"
   ]
  },
  {
   "cell_type": "code",
   "execution_count": 38,
   "id": "cb009ce7-9c16-4418-9b04-fd8f0fa67826",
   "metadata": {},
   "outputs": [
    {
     "data": {
      "text/plain": [
       "1000"
      ]
     },
     "execution_count": 38,
     "metadata": {},
     "output_type": "execute_result"
    }
   ],
   "source": [
    "products['K1'][2]"
   ]
  },
  {
   "cell_type": "code",
   "execution_count": 39,
   "id": "9a122df0-200c-477a-acb6-d0c0b5341d78",
   "metadata": {},
   "outputs": [],
   "source": [
    "products['K1'][2] = 2300 # we can modify an existing value"
   ]
  },
  {
   "cell_type": "code",
   "execution_count": 40,
   "id": "9424ffb8-b543-4393-b924-5cc26e4beef0",
   "metadata": {},
   "outputs": [
    {
     "data": {
      "text/plain": [
       "{'K1': ['pA', 101, 2300], 'K2': ['pB', 102, 2000], 'K3': ['pC', 103, 3000]}"
      ]
     },
     "execution_count": 40,
     "metadata": {},
     "output_type": "execute_result"
    }
   ],
   "source": [
    "products"
   ]
  },
  {
   "cell_type": "code",
   "execution_count": 41,
   "id": "09416d31-6d18-4efa-ab17-8f643179992d",
   "metadata": {},
   "outputs": [
    {
     "data": {
      "text/plain": [
       "'Data1'"
      ]
     },
     "execution_count": 41,
     "metadata": {},
     "output_type": "execute_result"
    }
   ],
   "source": [
    "def f1():\n",
    "    return 'Data1'\n",
    "\n",
    "f1()"
   ]
  },
  {
   "cell_type": "code",
   "execution_count": 42,
   "id": "5fdd8d3d-b8a5-4ba4-a18b-8f9897968d1d",
   "metadata": {},
   "outputs": [
    {
     "data": {
      "text/plain": [
       "('Data1',)"
      ]
     },
     "execution_count": 42,
     "metadata": {},
     "output_type": "execute_result"
    }
   ],
   "source": [
    "def f1():\n",
    "    return 'Data1',\n",
    "\n",
    "f1()"
   ]
  },
  {
   "cell_type": "code",
   "execution_count": 43,
   "id": "86e8e63d-fa0b-4e2c-bd07-d7d086739c80",
   "metadata": {},
   "outputs": [
    {
     "data": {
      "text/plain": [
       "('Data1', 'Data2')"
      ]
     },
     "execution_count": 43,
     "metadata": {},
     "output_type": "execute_result"
    }
   ],
   "source": [
    "def f1():\n",
    "    return 'Data1','Data2'\n",
    "f1()"
   ]
  },
  {
   "cell_type": "code",
   "execution_count": 44,
   "id": "d1e545bd-8632-4cb8-8dfc-3924e26a85c5",
   "metadata": {},
   "outputs": [
    {
     "data": {
      "text/plain": [
       "('Data1', 'Data2', ['f1', 'f2'], ('Dx', 'Dy'), {'K1': 'V1'})"
      ]
     },
     "execution_count": 44,
     "metadata": {},
     "output_type": "execute_result"
    }
   ],
   "source": [
    "def f1():\n",
    "    return 'Data1','Data2',['f1','f2'],('Dx','Dy'),{'K1':'V1'}\n",
    "\n",
    "f1()"
   ]
  },
  {
   "cell_type": "code",
   "execution_count": null,
   "id": "3a3f4e6b-9aa5-4947-8527-ba512ba5889f",
   "metadata": {},
   "outputs": [],
   "source": [
    "## OOPs style"
   ]
  }
 ],
 "metadata": {
  "kernelspec": {
   "display_name": "Python [conda env:base] *",
   "language": "python",
   "name": "conda-base-py"
  },
  "language_info": {
   "codemirror_mode": {
    "name": "ipython",
    "version": 3
   },
   "file_extension": ".py",
   "mimetype": "text/x-python",
   "name": "python",
   "nbconvert_exporter": "python",
   "pygments_lexer": "ipython3",
   "version": "3.13.5"
  }
 },
 "nbformat": 4,
 "nbformat_minor": 5
}
