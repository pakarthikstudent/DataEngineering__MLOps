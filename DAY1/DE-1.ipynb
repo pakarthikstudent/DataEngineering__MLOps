{
 "cells": [
  {
   "cell_type": "code",
   "execution_count": 1,
   "id": "fa340e54-59c8-49f4-b603-0bdd979148d8",
   "metadata": {},
   "outputs": [
    {
     "name": "stdout",
     "output_type": "stream",
     "text": [
      "3.13.5 | packaged by Anaconda, Inc. | (main, Jun 12 2025, 16:37:03) [MSC v.1929 64 bit (AMD64)]\n"
     ]
    }
   ],
   "source": [
    "import sys\n",
    "print(sys.version)"
   ]
  },
  {
   "cell_type": "code",
   "execution_count": 3,
   "id": "8cc7e1b0-f132-4d40-9d28-95f6396bbace",
   "metadata": {},
   "outputs": [
    {
     "name": "stdout",
     "output_type": "stream",
     "text": [
      "10 10 10\n",
      "0x7ff84390b4c8 0x7ff84390b4c8 0x7ff84390b4c8\n",
      "0x7ff84390b4c8\n"
     ]
    }
   ],
   "source": [
    "va = 10\n",
    "vb = 10\n",
    "vc = 10\n",
    "print(va,vb,vc)\n",
    "\n",
    "# id(va) -> int\n",
    "# hex(id(va)) ->0x<address>\n",
    "\n",
    "print(hex(id(va)),hex(id(vb)),hex(id(vc)))\n",
    "print(hex(id(10)))"
   ]
  },
  {
   "cell_type": "code",
   "execution_count": 4,
   "id": "082367e7-4f76-4191-9c0d-49eb056b92b0",
   "metadata": {},
   "outputs": [
    {
     "name": "stdout",
     "output_type": "stream",
     "text": [
      "<class 'int'>\n"
     ]
    }
   ],
   "source": [
    "print(type(10))"
   ]
  },
  {
   "cell_type": "code",
   "execution_count": 5,
   "id": "5bd6835d-9c4a-433d-900f-c895603f93b7",
   "metadata": {},
   "outputs": [
    {
     "name": "stdout",
     "output_type": "stream",
     "text": [
      "0x7ff84390b4e8\n"
     ]
    }
   ],
   "source": [
    "print(hex(id(11)))"
   ]
  },
  {
   "cell_type": "code",
   "execution_count": 6,
   "id": "12740d2f-44db-4cf4-b1f0-f0d1b264631a",
   "metadata": {},
   "outputs": [
    {
     "name": "stdout",
     "output_type": "stream",
     "text": [
      "11 0x7ff84390b4e8\n"
     ]
    }
   ],
   "source": [
    "va = va + 1\n",
    "print(va,hex(id(va)))"
   ]
  },
  {
   "cell_type": "code",
   "execution_count": 7,
   "id": "ebe0d704-667d-49bc-b8c3-9074fc57f7f2",
   "metadata": {},
   "outputs": [
    {
     "name": "stdout",
     "output_type": "stream",
     "text": [
      "5500 fastApi\n"
     ]
    }
   ],
   "source": [
    "port = 5500\n",
    "app = 'fastApi'\n",
    "print(port,app)"
   ]
  },
  {
   "cell_type": "code",
   "execution_count": 8,
   "id": "984c7ead-323f-484b-b3e6-4ed271e9e7c9",
   "metadata": {},
   "outputs": [
    {
     "name": "stdout",
     "output_type": "stream",
     "text": [
      "App name is: fastApi Running port number is: 5500\n"
     ]
    }
   ],
   "source": [
    "print('App name is:',app,'Running port number is:',port) # (1)"
   ]
  },
  {
   "cell_type": "code",
   "execution_count": 9,
   "id": "d9dc931e-e0d7-47a2-9502-3496b044e02c",
   "metadata": {},
   "outputs": [
    {
     "name": "stdout",
     "output_type": "stream",
     "text": [
      "App name is:fastApi Running port number is:5500\n"
     ]
    }
   ],
   "source": [
    "print('App name is:%s Running port number is:%d'%(app,port)) # (2)"
   ]
  },
  {
   "cell_type": "code",
   "execution_count": 10,
   "id": "a0746031-041c-48b7-9f69-d5f682fa47a6",
   "metadata": {},
   "outputs": [
    {
     "name": "stdout",
     "output_type": "stream",
     "text": [
      "App name is:fastApi Running port number is:5500\n"
     ]
    }
   ],
   "source": [
    "print('App name is:{} Running port number is:{}'.format(app,port)) # (3)"
   ]
  },
  {
   "cell_type": "code",
   "execution_count": 11,
   "id": "ea6915d1-b25e-4728-b380-e967394cc943",
   "metadata": {},
   "outputs": [
    {
     "name": "stdout",
     "output_type": "stream",
     "text": [
      "App name is:fastApi Running port number is:5500\n"
     ]
    }
   ],
   "source": [
    "print(f'App name is:{app} Running port number is:{port}') #(4)"
   ]
  },
  {
   "cell_type": "code",
   "execution_count": 13,
   "id": "07a3df05-6610-408a-8cbd-3da8984d67ea",
   "metadata": {},
   "outputs": [
    {
     "name": "stdout",
     "output_type": "stream",
     "text": [
      "App name is:FastApi Running port number is:5500\n"
     ]
    }
   ],
   "source": [
    "# conditional statement - code validation \n",
    "\n",
    "if(port >5000 and port <6000):\n",
    "    app = 'FastApi' \n",
    "else:\n",
    "    app = 'demoApp'\n",
    "\n",
    "print(f'App name is:{app} Running port number is:{port}')"
   ]
  },
  {
   "cell_type": "raw",
   "id": "c54d1a11-0aa7-4efc-b3b6-c0e816981906",
   "metadata": {},
   "source": [
    "looping statement \n",
    "------------------\n",
    "1. conditional style loop\n",
    "   while \n",
    "   |-> rule 1 :initialization \n",
    "   |-> rule 2 :condition \n",
    "   |-> rule 3 : arithmetic \n",
    " initialization\n",
    " while(condition):\n",
    "     ...\n",
    "     arithmetic\n",
    "  -----------------------Vs\n",
    "2. collection style loop\n",
    "   for \n",
    "   for variable in <collection>:\n",
    "       <codeblock>  "
   ]
  },
  {
   "cell_type": "code",
   "execution_count": 14,
   "id": "95d2e983-a7a5-4714-96c2-8325742c4aa8",
   "metadata": {},
   "outputs": [
    {
     "name": "stdout",
     "output_type": "stream",
     "text": [
      "Test data ..0\n",
      "Test data ..1\n",
      "Test data ..2\n",
      "Test data ..3\n",
      "Test data ..4\n"
     ]
    }
   ],
   "source": [
    "i=0\n",
    "while(i < 5):\n",
    "    print(f'Test data ..{i}')\n",
    "    i=i+1 "
   ]
  },
  {
   "cell_type": "code",
   "execution_count": 15,
   "id": "7ae5dd9d-2410-49df-9701-0aa3c876e02d",
   "metadata": {},
   "outputs": [
    {
     "name": "stdout",
     "output_type": "stream",
     "text": [
      "Test data...a\n",
      "Test data...b\n",
      "Test data...c\n"
     ]
    }
   ],
   "source": [
    "for var in 'abc':\n",
    "    print(f'Test data...{var}')"
   ]
  },
  {
   "cell_type": "raw",
   "id": "1d28d43c-6a54-4649-8983-a437d588c831",
   "metadata": {},
   "source": [
    "python native types -- class\n",
    "====================\n",
    "int float complex bool(True False) NoneType (None)\n",
    "str bytes list tuple \n",
    "dict set"
   ]
  },
  {
   "cell_type": "raw",
   "id": "f5b079eb-6a6b-45fe-ae80-4b43fb97ea30",
   "metadata": {},
   "source": [
    "s='abc3467$@3fh' # string\n",
    "\n",
    "v=b'abc3467$@3fh' # bytes - collection of ASCII \n",
    "\n",
    "list - collection of different types of items - mutable - index based \n",
    "tuple - collection of different types of items - immutable - index based // \n",
    "dict -  collection of different types of items - mutable - key:value \n",
    "set - collection of unique items - this NOT index based ; NOT key:Value based \n",
    "\n",
    "list,tuple,dict\n",
    "-----------------//multidimensional \n",
    "list,dict combination we will use more \n",
    "----------"
   ]
  },
  {
   "cell_type": "code",
   "execution_count": 17,
   "id": "4bab6a46-9828-4024-bc12-a048713cf276",
   "metadata": {},
   "outputs": [],
   "source": [
    "# product \n",
    "# |->productName,cost,code,status\n",
    "\n",
    "pname = 'pA'\n",
    "pcode = 101\n",
    "pcost = 4589.23\n",
    "pstatus = True\n",
    "################################     \n",
    "product_info1 = ['pA',101,4589.23,True] # list - mutable \n",
    "\n",
    "product_info2 = ('pA',101,4589.23,True) # tuple - fixed record set - immutable \n",
    "\n",
    "product_info3 = {'K1':'pA','K2':101,'K3':4589.23,'K4':True} # dict - key:value - mutable "
   ]
  },
  {
   "cell_type": "code",
   "execution_count": 18,
   "id": "6a0428fa-1300-4000-bc8e-4f25534713f2",
   "metadata": {},
   "outputs": [
    {
     "name": "stdout",
     "output_type": "stream",
     "text": [
      "pA pA\n"
     ]
    }
   ],
   "source": [
    "print(product_info1[0],product_info2[0])"
   ]
  },
  {
   "cell_type": "code",
   "execution_count": 19,
   "id": "e68e5d65-c120-4b47-9a34-815dcd0498be",
   "metadata": {},
   "outputs": [],
   "source": [
    "product_info1[2]=5690.42 # we can modify an exisiting value - list - mutable"
   ]
  },
  {
   "cell_type": "code",
   "execution_count": 20,
   "id": "68328716-ef3c-4ae2-ad2e-4943addc6bb8",
   "metadata": {},
   "outputs": [
    {
     "name": "stdout",
     "output_type": "stream",
     "text": [
      "['pA', 101, 5690.42, True]\n"
     ]
    }
   ],
   "source": [
    "print(product_info1)"
   ]
  },
  {
   "cell_type": "code",
   "execution_count": 22,
   "id": "50da7901-54f0-47bb-b8b2-58bd63204f79",
   "metadata": {},
   "outputs": [
    {
     "ename": "TypeError",
     "evalue": "'tuple' object does not support item assignment",
     "output_type": "error",
     "traceback": [
      "\u001b[1;31m---------------------------------------------------------------------------\u001b[0m",
      "\u001b[1;31mTypeError\u001b[0m                                 Traceback (most recent call last)",
      "Cell \u001b[1;32mIn[22], line 1\u001b[0m\n\u001b[1;32m----> 1\u001b[0m product_info2[\u001b[38;5;241m2\u001b[39m] \u001b[38;5;241m=\u001b[39m \u001b[38;5;241m56900\u001b[39m\n",
      "\u001b[1;31mTypeError\u001b[0m: 'tuple' object does not support item assignment"
     ]
    }
   ],
   "source": [
    "product_info2[2] = 56900  # we can't modify - tuple - immutable"
   ]
  },
  {
   "cell_type": "code",
   "execution_count": null,
   "id": "0a2c2cb3-4340-46b0-924f-5a8e56449735",
   "metadata": {},
   "outputs": [],
   "source": []
  }
 ],
 "metadata": {
  "kernelspec": {
   "display_name": "Python [conda env:base] *",
   "language": "python",
   "name": "conda-base-py"
  },
  "language_info": {
   "codemirror_mode": {
    "name": "ipython",
    "version": 3
   },
   "file_extension": ".py",
   "mimetype": "text/x-python",
   "name": "python",
   "nbconvert_exporter": "python",
   "pygments_lexer": "ipython3",
   "version": "3.13.5"
  }
 },
 "nbformat": 4,
 "nbformat_minor": 5
}
