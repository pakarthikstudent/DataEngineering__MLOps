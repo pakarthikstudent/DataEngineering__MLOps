{
 "cells": [
  {
   "cell_type": "code",
   "execution_count": 2,
   "id": "97234881-fdc7-43ec-bc4c-13b8833e118a",
   "metadata": {},
   "outputs": [],
   "source": [
    "import os\n",
    "os.chdir(\"C:\\\\Users\\karth\\Karthik\\DATA\")"
   ]
  },
  {
   "cell_type": "raw",
   "id": "4f1ce63d-8629-49fd-8596-b069807849f7",
   "metadata": {},
   "source": [
    "import os\n",
    "#os.environ[\"PYSPARK_PYTHON\"] = r\"C:\\Users\\karth\\AppData\\Local\\Programs\\Python\\Python310\\python.exe\"\n",
    "\n",
    "from pyspark.sql import SparkSession\n",
    "\n",
    "# Create or get a Spark session\n",
    "spark = SparkSession.builder \\\n",
    "    .appName(\"BasicExample\") \\\n",
    "    .getOrCreate()\n",
    "\n",
    "# Check the Spark version\n",
    "print(\"Spark version:\", spark.version)\n",
    "\n",
    "\n",
    "# Sample data (list of tuples)\n",
    "data = [(\"Alice\", 25), (\"Bob\", 30), (\"Cathy\", 22)]\n",
    "\n",
    "# Define column names\n",
    "columns = [\"Name\", \"Age\"]\n",
    "\n",
    "# Create DataFrame\n",
    "df = spark.createDataFrame(data, columns) # spark.createDataFrame(data=<inputData>,schema=<inputdata>)\n",
    "\n",
    "# Show data\n",
    "df.show()"
   ]
  },
  {
   "cell_type": "code",
   "execution_count": 7,
   "id": "98bc372f-d3ba-4994-8a25-3cd9bb039009",
   "metadata": {},
   "outputs": [
    {
     "name": "stdout",
     "output_type": "stream",
     "text": [
      "PYSPARK_PYTHON = C:\\Users\\karth\\AppData\\Local\\Programs\\Python\\Python310\\python.exe\n",
      "PYSPARK_DRIVER_PYTHON = C:\\Users\\karth\\AppData\\Local\\Programs\\Python\\Python310\\python.exe\n"
     ]
    }
   ],
   "source": [
    "import os\n",
    "os.environ[\"PYSPARK_PYTHON\"] = \"C:\\\\Users\\karth\\AppData\\Local\\Programs\\Python\\Python310\\python.exe\"\n",
    "os.environ[\"PYSPARK_DRIVER_PYTHON\"] = \"C:\\\\Users\\karth\\AppData\\Local\\Programs\\Python\\Python310\\python.exe\"\n",
    "print(\"PYSPARK_PYTHON =\", os.environ.get(\"PYSPARK_PYTHON\"))\n",
    "print(\"PYSPARK_DRIVER_PYTHON =\", os.environ.get(\"PYSPARK_DRIVER_PYTHON\"))"
   ]
  },
  {
   "cell_type": "code",
   "execution_count": 8,
   "id": "61a0af2c-8ed3-41d4-9082-ca2de58e877f",
   "metadata": {},
   "outputs": [],
   "source": [
    "from pyspark.sql import SparkSession\n",
    "\n",
    "spark = SparkSession.builder \\\n",
    "    .appName(\"FixPythonMismatch\") \\\n",
    "    .getOrCreate()"
   ]
  },
  {
   "cell_type": "code",
   "execution_count": 9,
   "id": "01d54fb6-334c-4916-a95b-292be907aae6",
   "metadata": {},
   "outputs": [
    {
     "data": {
      "text/html": [
       "\n",
       "            <div>\n",
       "                <p><b>SparkSession - in-memory</b></p>\n",
       "                \n",
       "        <div>\n",
       "            <p><b>SparkContext</b></p>\n",
       "\n",
       "            <p><a href=\"http://paka:4040\">Spark UI</a></p>\n",
       "\n",
       "            <dl>\n",
       "              <dt>Version</dt>\n",
       "                <dd><code>v4.0.0</code></dd>\n",
       "              <dt>Master</dt>\n",
       "                <dd><code>local[*]</code></dd>\n",
       "              <dt>AppName</dt>\n",
       "                <dd><code>BasicExample</code></dd>\n",
       "            </dl>\n",
       "        </div>\n",
       "        \n",
       "            </div>\n",
       "        "
      ],
      "text/plain": [
       "<pyspark.sql.session.SparkSession at 0x2e7d32afb60>"
      ]
     },
     "execution_count": 9,
     "metadata": {},
     "output_type": "execute_result"
    }
   ],
   "source": [
    "spark"
   ]
  },
  {
   "cell_type": "code",
   "execution_count": 10,
   "id": "c2bf30dd-bcf1-4133-b600-778441e64157",
   "metadata": {},
   "outputs": [],
   "source": [
    "from pyspark.sql import SparkSession"
   ]
  },
  {
   "cell_type": "code",
   "execution_count": 14,
   "id": "51cbaa7b-85d1-47ed-9735-921c51a0a64b",
   "metadata": {},
   "outputs": [
    {
     "data": {
      "text/html": [
       "\n",
       "            <div>\n",
       "                <p><b>SparkSession - in-memory</b></p>\n",
       "                \n",
       "        <div>\n",
       "            <p><b>SparkContext</b></p>\n",
       "\n",
       "            <p><a href=\"http://paka:4040\">Spark UI</a></p>\n",
       "\n",
       "            <dl>\n",
       "              <dt>Version</dt>\n",
       "                <dd><code>v4.0.0</code></dd>\n",
       "              <dt>Master</dt>\n",
       "                <dd><code>local[*]</code></dd>\n",
       "              <dt>AppName</dt>\n",
       "                <dd><code>BasicExample</code></dd>\n",
       "            </dl>\n",
       "        </div>\n",
       "        \n",
       "            </div>\n",
       "        "
      ],
      "text/plain": [
       "<pyspark.sql.session.SparkSession at 0x2e7d32afb60>"
      ]
     },
     "execution_count": 14,
     "metadata": {},
     "output_type": "execute_result"
    }
   ],
   "source": [
    "SparkSession.builder.appName('example1').getOrCreate()"
   ]
  },
  {
   "cell_type": "code",
   "execution_count": 15,
   "id": "c6e01f2f-9d31-4fb5-a6f4-fda0fc79e881",
   "metadata": {},
   "outputs": [
    {
     "data": {
      "text/plain": [
       "DataFrame[pid: bigint, pname: string, pcost: bigint]"
      ]
     },
     "execution_count": 15,
     "metadata": {},
     "output_type": "execute_result"
    }
   ],
   "source": [
    "spark = SparkSession.builder.appName('example1').getOrCreate()\n",
    "\n",
    "product=[(101,'pA',1000),(102,'pB',2000),(103,'pC',3000)]\n",
    "\n",
    "columns=['pid','pname','pcost']\n",
    "\n",
    "df = spark.createDataFrame(data=product,schema=columns)\n",
    "df"
   ]
  },
  {
   "cell_type": "raw",
   "id": "3805cedc-bfa0-46e3-addf-dcab5b21d91b",
   "metadata": {},
   "source": [
    "df.show(truncate=False)"
   ]
  },
  {
   "cell_type": "code",
   "execution_count": 18,
   "id": "f3fde8d0-04a8-4387-aa41-3180e47cdba7",
   "metadata": {},
   "outputs": [
    {
     "name": "stdout",
     "output_type": "stream",
     "text": [
      "root\n",
      " |-- pid: long (nullable = true)\n",
      " |-- pname: string (nullable = true)\n",
      " |-- pcost: long (nullable = true)\n",
      "\n"
     ]
    }
   ],
   "source": [
    "df.printSchema()"
   ]
  },
  {
   "cell_type": "code",
   "execution_count": 20,
   "id": "8c9d0070-0512-4ef8-a794-13fd7482220a",
   "metadata": {},
   "outputs": [
    {
     "name": "stdout",
     "output_type": "stream",
     "text": [
      "Same as previous style\n"
     ]
    }
   ],
   "source": [
    "# decorator \n",
    "# ----------\n",
    "# adding new features to an exiting code\n",
    "# webApi \n",
    "# www.abc.com  ->  / \n",
    "# www.abc.com/aboutus  ->  /aboutus\n",
    "# www.abc.com/news     ->  /news\n",
    "\n",
    "def f1(a1): # decorator\n",
    "    def f2(): # wrapper\n",
    "        a1()\n",
    "    return f2\n",
    "\n",
    "'''\n",
    "def updatedApp():\n",
    "    print(\"new app\")\n",
    "\n",
    "updatedApp=f1(updatedApp)\n",
    "updatedApp()\n",
    "'''\n",
    "@f1\n",
    "def updatedApp():\n",
    "    print('Same as previous style')\n",
    "\n",
    "updatedApp()\n"
   ]
  },
  {
   "cell_type": "markdown",
   "id": "f601d75f-3396-4ded-85b0-4da658a569a2",
   "metadata": {},
   "source": [
    "## Refer\n",
    "https://github.com/spark-examples/pyspark-examples"
   ]
  },
  {
   "cell_type": "code",
   "execution_count": 21,
   "id": "f8a14473-beed-4af5-be43-7f445a50f8aa",
   "metadata": {},
   "outputs": [
    {
     "data": {
      "text/plain": [
       "200"
      ]
     },
     "execution_count": 21,
     "metadata": {},
     "output_type": "execute_result"
    }
   ],
   "source": [
    "import requests\n",
    "r = requests.get('https://www.google.com')\n",
    "r.status_code"
   ]
  },
  {
   "cell_type": "code",
   "execution_count": 22,
   "id": "8701c9eb-d594-433f-bb26-2dbcccf01a77",
   "metadata": {},
   "outputs": [
    {
     "data": {
      "text/plain": [
       "'text/html; charset=ISO-8859-1'"
      ]
     },
     "execution_count": 22,
     "metadata": {},
     "output_type": "execute_result"
    }
   ],
   "source": [
    "r.headers['Content-Type']"
   ]
  },
  {
   "cell_type": "code",
   "execution_count": 23,
   "id": "9395777b-7fe6-4f91-be66-4a442c0c711c",
   "metadata": {},
   "outputs": [],
   "source": [
    "web_page = r.text"
   ]
  },
  {
   "cell_type": "code",
   "execution_count": 24,
   "id": "221b1883-3697-4602-9d58-f3d269792716",
   "metadata": {},
   "outputs": [],
   "source": [
    "import bs4"
   ]
  },
  {
   "cell_type": "code",
   "execution_count": 25,
   "id": "4b9bf021-1ed1-4e69-8964-c4d98acb2486",
   "metadata": {},
   "outputs": [],
   "source": [
    "soupObj = bs4.BeautifulSoup(web_page) # default parser is html5"
   ]
  },
  {
   "cell_type": "code",
   "execution_count": 26,
   "id": "1eecda6d-35c8-42d1-bbbe-4971a9c129ed",
   "metadata": {},
   "outputs": [
    {
     "data": {
      "text/plain": [
       "<title>Google</title>"
      ]
     },
     "execution_count": 26,
     "metadata": {},
     "output_type": "execute_result"
    }
   ],
   "source": [
    "soupObj.title"
   ]
  },
  {
   "cell_type": "code",
   "execution_count": 27,
   "id": "cbe526d7-7630-4956-9202-dfc5a353f940",
   "metadata": {},
   "outputs": [
    {
     "data": {
      "text/plain": [
       "<p style=\"font-size:8pt;color:#636363\">© 2025 - <a href=\"/intl/en/policies/privacy/\">Privacy</a> - <a href=\"/intl/en/policies/terms/\">Terms</a></p>"
      ]
     },
     "execution_count": 27,
     "metadata": {},
     "output_type": "execute_result"
    }
   ],
   "source": [
    "soupObj.p"
   ]
  },
  {
   "cell_type": "code",
   "execution_count": 28,
   "id": "4de16088-dabb-4b3d-92cf-b24252b01b98",
   "metadata": {},
   "outputs": [],
   "source": [
    "soupObj.h1"
   ]
  },
  {
   "cell_type": "code",
   "execution_count": 29,
   "id": "53d33aef-594e-4bda-a89b-7f89c945d797",
   "metadata": {},
   "outputs": [
    {
     "data": {
      "text/plain": [
       "<p style=\"font-size:8pt;color:#636363\">© 2025 - <a href=\"/intl/en/policies/privacy/\">Privacy</a> - <a href=\"/intl/en/policies/terms/\">Terms</a></p>"
      ]
     },
     "execution_count": 29,
     "metadata": {},
     "output_type": "execute_result"
    }
   ],
   "source": [
    "soupObj.find('p')"
   ]
  },
  {
   "cell_type": "code",
   "execution_count": 30,
   "id": "09149de4-6d92-447d-bc42-a45e4697726b",
   "metadata": {},
   "outputs": [
    {
     "data": {
      "text/plain": [
       "[<p style=\"font-size:8pt;color:#636363\">© 2025 - <a href=\"/intl/en/policies/privacy/\">Privacy</a> - <a href=\"/intl/en/policies/terms/\">Terms</a></p>]"
      ]
     },
     "execution_count": 30,
     "metadata": {},
     "output_type": "execute_result"
    }
   ],
   "source": [
    "soupObj.find_all('p')"
   ]
  },
  {
   "cell_type": "code",
   "execution_count": 33,
   "id": "aa116190-3803-4e56-a382-7f524bc6f9be",
   "metadata": {},
   "outputs": [
    {
     "data": {
      "text/plain": [
       "<title>Google</title>"
      ]
     },
     "execution_count": 33,
     "metadata": {},
     "output_type": "execute_result"
    }
   ],
   "source": [
    "soupObj.find('title')"
   ]
  },
  {
   "cell_type": "code",
   "execution_count": 35,
   "id": "059dcf87-d435-43aa-ac53-e6f3edf98c50",
   "metadata": {},
   "outputs": [
    {
     "data": {
      "text/plain": [
       "'Google'"
      ]
     },
     "execution_count": 35,
     "metadata": {},
     "output_type": "execute_result"
    }
   ],
   "source": [
    "soupObj.find('title').text"
   ]
  },
  {
   "cell_type": "code",
   "execution_count": 36,
   "id": "32084a4c-644c-4d6f-8c38-29fcd98cb031",
   "metadata": {},
   "outputs": [
    {
     "data": {
      "text/plain": [
       "<p style=\"font-size:8pt;color:#636363\">© 2025 - <a href=\"/intl/en/policies/privacy/\">Privacy</a> - <a href=\"/intl/en/policies/terms/\">Terms</a></p>"
      ]
     },
     "execution_count": 36,
     "metadata": {},
     "output_type": "execute_result"
    }
   ],
   "source": [
    "soupObj.find('p')"
   ]
  },
  {
   "cell_type": "code",
   "execution_count": 37,
   "id": "c29f24ca-568d-4677-969b-6f0d8d22a615",
   "metadata": {},
   "outputs": [
    {
     "data": {
      "text/plain": [
       "'font-size:8pt;color:#636363'"
      ]
     },
     "execution_count": 37,
     "metadata": {},
     "output_type": "execute_result"
    }
   ],
   "source": [
    "soupObj.find('p')['style'] # dict logic"
   ]
  },
  {
   "cell_type": "code",
   "execution_count": 38,
   "id": "82fbb72a-2363-48ed-9ef2-dc2b2e694204",
   "metadata": {},
   "outputs": [
    {
     "data": {
      "text/plain": [
       "<a class=\"gb1\" href=\"https://www.google.com/imghp?hl=en&amp;tab=wi\">Images</a>"
      ]
     },
     "execution_count": 38,
     "metadata": {},
     "output_type": "execute_result"
    }
   ],
   "source": [
    "soupObj.find('a')"
   ]
  },
  {
   "cell_type": "code",
   "execution_count": 39,
   "id": "b1d1b7e4-24aa-4b76-9ccb-c326dbfe5288",
   "metadata": {},
   "outputs": [
    {
     "data": {
      "text/plain": [
       "[<a class=\"gb1\" href=\"https://www.google.com/imghp?hl=en&amp;tab=wi\">Images</a>,\n",
       " <a class=\"gb1\" href=\"https://maps.google.co.in/maps?hl=en&amp;tab=wl\">Maps</a>,\n",
       " <a class=\"gb1\" href=\"https://play.google.com/?hl=en&amp;tab=w8\">Play</a>,\n",
       " <a class=\"gb1\" href=\"https://www.youtube.com/?tab=w1\">YouTube</a>,\n",
       " <a class=\"gb1\" href=\"https://news.google.com/?tab=wn\">News</a>,\n",
       " <a class=\"gb1\" href=\"https://mail.google.com/mail/?tab=wm\">Gmail</a>,\n",
       " <a class=\"gb1\" href=\"https://drive.google.com/?tab=wo\">Drive</a>,\n",
       " <a class=\"gb1\" href=\"https://www.google.co.in/intl/en/about/products?tab=wh\" style=\"text-decoration:none\"><u>More</u> »</a>,\n",
       " <a class=\"gb4\" href=\"http://www.google.co.in/history/optout?hl=en\">Web History</a>,\n",
       " <a class=\"gb4\" href=\"/preferences?hl=en\">Settings</a>,\n",
       " <a class=\"gb4\" href=\"https://accounts.google.com/ServiceLogin?hl=en&amp;passive=true&amp;continue=https://www.google.com/&amp;ec=GAZAAQ\" id=\"gb_70\" target=\"_top\">Sign in</a>,\n",
       " <a href=\"/advanced_search?hl=en-IN&amp;authuser=0\">Advanced search</a>,\n",
       " <a href=\"https://www.google.com/setprefs?sig=0_U_N8d0_-Vvv5gsYs771EGAamUKE%3D&amp;hl=hi&amp;source=homepage&amp;sa=X&amp;ved=0ahUKEwjip5rnmPaOAxUJpJUCHbxTK2kQ2ZgBCAY\">हिन्दी</a>,\n",
       " <a href=\"https://www.google.com/setprefs?sig=0_U_N8d0_-Vvv5gsYs771EGAamUKE%3D&amp;hl=bn&amp;source=homepage&amp;sa=X&amp;ved=0ahUKEwjip5rnmPaOAxUJpJUCHbxTK2kQ2ZgBCAc\">বাংলা</a>,\n",
       " <a href=\"https://www.google.com/setprefs?sig=0_U_N8d0_-Vvv5gsYs771EGAamUKE%3D&amp;hl=te&amp;source=homepage&amp;sa=X&amp;ved=0ahUKEwjip5rnmPaOAxUJpJUCHbxTK2kQ2ZgBCAg\">తెలుగు</a>,\n",
       " <a href=\"https://www.google.com/setprefs?sig=0_U_N8d0_-Vvv5gsYs771EGAamUKE%3D&amp;hl=mr&amp;source=homepage&amp;sa=X&amp;ved=0ahUKEwjip5rnmPaOAxUJpJUCHbxTK2kQ2ZgBCAk\">मराठी</a>,\n",
       " <a href=\"https://www.google.com/setprefs?sig=0_U_N8d0_-Vvv5gsYs771EGAamUKE%3D&amp;hl=ta&amp;source=homepage&amp;sa=X&amp;ved=0ahUKEwjip5rnmPaOAxUJpJUCHbxTK2kQ2ZgBCAo\">தமிழ்</a>,\n",
       " <a href=\"https://www.google.com/setprefs?sig=0_U_N8d0_-Vvv5gsYs771EGAamUKE%3D&amp;hl=gu&amp;source=homepage&amp;sa=X&amp;ved=0ahUKEwjip5rnmPaOAxUJpJUCHbxTK2kQ2ZgBCAs\">ગુજરાતી</a>,\n",
       " <a href=\"https://www.google.com/setprefs?sig=0_U_N8d0_-Vvv5gsYs771EGAamUKE%3D&amp;hl=kn&amp;source=homepage&amp;sa=X&amp;ved=0ahUKEwjip5rnmPaOAxUJpJUCHbxTK2kQ2ZgBCAw\">ಕನ್ನಡ</a>,\n",
       " <a href=\"https://www.google.com/setprefs?sig=0_U_N8d0_-Vvv5gsYs771EGAamUKE%3D&amp;hl=ml&amp;source=homepage&amp;sa=X&amp;ved=0ahUKEwjip5rnmPaOAxUJpJUCHbxTK2kQ2ZgBCA0\">മലയാളം</a>,\n",
       " <a href=\"https://www.google.com/setprefs?sig=0_U_N8d0_-Vvv5gsYs771EGAamUKE%3D&amp;hl=pa&amp;source=homepage&amp;sa=X&amp;ved=0ahUKEwjip5rnmPaOAxUJpJUCHbxTK2kQ2ZgBCA4\">ਪੰਜਾਬੀ</a>,\n",
       " <a href=\"/intl/en/ads/\">Advertising</a>,\n",
       " <a href=\"http://www.google.co.in/services/\">Business Solutions</a>,\n",
       " <a href=\"/intl/en/about.html\">About Google</a>,\n",
       " <a href=\"https://www.google.com/setprefdomain?prefdom=IN&amp;prev=https://www.google.co.in/&amp;sig=K_Kr6wTXHufAfJWTwvEKh5CA62kvE%3D\">Google.co.in</a>,\n",
       " <a href=\"/intl/en/policies/privacy/\">Privacy</a>,\n",
       " <a href=\"/intl/en/policies/terms/\">Terms</a>]"
      ]
     },
     "execution_count": 39,
     "metadata": {},
     "output_type": "execute_result"
    }
   ],
   "source": [
    "soupObj.find_all('a')"
   ]
  },
  {
   "cell_type": "code",
   "execution_count": 40,
   "id": "b2ce83d6-7c43-4318-8dd4-eaca81863bac",
   "metadata": {},
   "outputs": [
    {
     "data": {
      "text/plain": [
       "'V1'"
      ]
     },
     "execution_count": 40,
     "metadata": {},
     "output_type": "execute_result"
    }
   ],
   "source": [
    "d={'K1':'V1'}\n",
    "d['K1']"
   ]
  },
  {
   "cell_type": "code",
   "execution_count": 41,
   "id": "3058ab22-c77c-43d4-89d1-98360ecade69",
   "metadata": {},
   "outputs": [
    {
     "ename": "KeyError",
     "evalue": "'K2'",
     "output_type": "error",
     "traceback": [
      "\u001b[1;31m---------------------------------------------------------------------------\u001b[0m",
      "\u001b[1;31mKeyError\u001b[0m                                  Traceback (most recent call last)",
      "Cell \u001b[1;32mIn[41], line 1\u001b[0m\n\u001b[1;32m----> 1\u001b[0m d[\u001b[38;5;124m'\u001b[39m\u001b[38;5;124mK2\u001b[39m\u001b[38;5;124m'\u001b[39m]\n",
      "\u001b[1;31mKeyError\u001b[0m: 'K2'"
     ]
    }
   ],
   "source": [
    "d['K2']"
   ]
  },
  {
   "cell_type": "code",
   "execution_count": 42,
   "id": "18215eec-d8df-4caf-aa31-c9acd976624f",
   "metadata": {},
   "outputs": [
    {
     "data": {
      "text/plain": [
       "'V1'"
      ]
     },
     "execution_count": 42,
     "metadata": {},
     "output_type": "execute_result"
    }
   ],
   "source": [
    "d.get('K1')"
   ]
  },
  {
   "cell_type": "code",
   "execution_count": 43,
   "id": "c811e14c-4d90-47f4-8268-726309d64c7f",
   "metadata": {},
   "outputs": [],
   "source": [
    "d.get('K2')"
   ]
  },
  {
   "cell_type": "code",
   "execution_count": 44,
   "id": "4bec4bd9-b094-40a5-a54a-9e532ba87331",
   "metadata": {},
   "outputs": [
    {
     "name": "stdout",
     "output_type": "stream",
     "text": [
      "https://www.google.com/imghp?hl=en&tab=wi\n",
      "https://maps.google.co.in/maps?hl=en&tab=wl\n",
      "https://play.google.com/?hl=en&tab=w8\n",
      "https://www.youtube.com/?tab=w1\n",
      "https://news.google.com/?tab=wn\n",
      "https://mail.google.com/mail/?tab=wm\n",
      "https://drive.google.com/?tab=wo\n",
      "https://www.google.co.in/intl/en/about/products?tab=wh\n",
      "http://www.google.co.in/history/optout?hl=en\n",
      "/preferences?hl=en\n",
      "https://accounts.google.com/ServiceLogin?hl=en&passive=true&continue=https://www.google.com/&ec=GAZAAQ\n",
      "/advanced_search?hl=en-IN&authuser=0\n",
      "https://www.google.com/setprefs?sig=0_U_N8d0_-Vvv5gsYs771EGAamUKE%3D&hl=hi&source=homepage&sa=X&ved=0ahUKEwjip5rnmPaOAxUJpJUCHbxTK2kQ2ZgBCAY\n",
      "https://www.google.com/setprefs?sig=0_U_N8d0_-Vvv5gsYs771EGAamUKE%3D&hl=bn&source=homepage&sa=X&ved=0ahUKEwjip5rnmPaOAxUJpJUCHbxTK2kQ2ZgBCAc\n",
      "https://www.google.com/setprefs?sig=0_U_N8d0_-Vvv5gsYs771EGAamUKE%3D&hl=te&source=homepage&sa=X&ved=0ahUKEwjip5rnmPaOAxUJpJUCHbxTK2kQ2ZgBCAg\n",
      "https://www.google.com/setprefs?sig=0_U_N8d0_-Vvv5gsYs771EGAamUKE%3D&hl=mr&source=homepage&sa=X&ved=0ahUKEwjip5rnmPaOAxUJpJUCHbxTK2kQ2ZgBCAk\n",
      "https://www.google.com/setprefs?sig=0_U_N8d0_-Vvv5gsYs771EGAamUKE%3D&hl=ta&source=homepage&sa=X&ved=0ahUKEwjip5rnmPaOAxUJpJUCHbxTK2kQ2ZgBCAo\n",
      "https://www.google.com/setprefs?sig=0_U_N8d0_-Vvv5gsYs771EGAamUKE%3D&hl=gu&source=homepage&sa=X&ved=0ahUKEwjip5rnmPaOAxUJpJUCHbxTK2kQ2ZgBCAs\n",
      "https://www.google.com/setprefs?sig=0_U_N8d0_-Vvv5gsYs771EGAamUKE%3D&hl=kn&source=homepage&sa=X&ved=0ahUKEwjip5rnmPaOAxUJpJUCHbxTK2kQ2ZgBCAw\n",
      "https://www.google.com/setprefs?sig=0_U_N8d0_-Vvv5gsYs771EGAamUKE%3D&hl=ml&source=homepage&sa=X&ved=0ahUKEwjip5rnmPaOAxUJpJUCHbxTK2kQ2ZgBCA0\n",
      "https://www.google.com/setprefs?sig=0_U_N8d0_-Vvv5gsYs771EGAamUKE%3D&hl=pa&source=homepage&sa=X&ved=0ahUKEwjip5rnmPaOAxUJpJUCHbxTK2kQ2ZgBCA4\n",
      "/intl/en/ads/\n",
      "http://www.google.co.in/services/\n",
      "/intl/en/about.html\n",
      "https://www.google.com/setprefdomain?prefdom=IN&prev=https://www.google.co.in/&sig=K_Kr6wTXHufAfJWTwvEKh5CA62kvE%3D\n",
      "/intl/en/policies/privacy/\n",
      "/intl/en/policies/terms/\n"
     ]
    }
   ],
   "source": [
    "# to get list of url from google.com\n",
    "for var in soupObj.find_all('a'):\n",
    "    print(var.get('href'))"
   ]
  },
  {
   "cell_type": "code",
   "execution_count": 46,
   "id": "f4d9103f-0d95-4d7a-b260-592be775952a",
   "metadata": {},
   "outputs": [
    {
     "name": "stdout",
     "output_type": "stream",
     "text": [
      "https://www.google.com/imghp?hl=en&tab=wi\n",
      "https://maps.google.co.in/maps?hl=en&tab=wl\n",
      "https://play.google.com/?hl=en&tab=w8\n",
      "https://www.youtube.com/?tab=w1\n",
      "https://news.google.com/?tab=wn\n",
      "https://mail.google.com/mail/?tab=wm\n",
      "https://drive.google.com/?tab=wo\n",
      "https://www.google.co.in/intl/en/about/products?tab=wh\n",
      "http://www.google.co.in/history/optout?hl=en\n",
      "https://accounts.google.com/ServiceLogin?hl=en&passive=true&continue=https://www.google.com/&ec=GAZAAQ\n",
      "https://www.google.com/setprefs?sig=0_U_N8d0_-Vvv5gsYs771EGAamUKE%3D&hl=hi&source=homepage&sa=X&ved=0ahUKEwjip5rnmPaOAxUJpJUCHbxTK2kQ2ZgBCAY\n",
      "https://www.google.com/setprefs?sig=0_U_N8d0_-Vvv5gsYs771EGAamUKE%3D&hl=bn&source=homepage&sa=X&ved=0ahUKEwjip5rnmPaOAxUJpJUCHbxTK2kQ2ZgBCAc\n",
      "https://www.google.com/setprefs?sig=0_U_N8d0_-Vvv5gsYs771EGAamUKE%3D&hl=te&source=homepage&sa=X&ved=0ahUKEwjip5rnmPaOAxUJpJUCHbxTK2kQ2ZgBCAg\n",
      "https://www.google.com/setprefs?sig=0_U_N8d0_-Vvv5gsYs771EGAamUKE%3D&hl=mr&source=homepage&sa=X&ved=0ahUKEwjip5rnmPaOAxUJpJUCHbxTK2kQ2ZgBCAk\n",
      "https://www.google.com/setprefs?sig=0_U_N8d0_-Vvv5gsYs771EGAamUKE%3D&hl=ta&source=homepage&sa=X&ved=0ahUKEwjip5rnmPaOAxUJpJUCHbxTK2kQ2ZgBCAo\n",
      "https://www.google.com/setprefs?sig=0_U_N8d0_-Vvv5gsYs771EGAamUKE%3D&hl=gu&source=homepage&sa=X&ved=0ahUKEwjip5rnmPaOAxUJpJUCHbxTK2kQ2ZgBCAs\n",
      "https://www.google.com/setprefs?sig=0_U_N8d0_-Vvv5gsYs771EGAamUKE%3D&hl=kn&source=homepage&sa=X&ved=0ahUKEwjip5rnmPaOAxUJpJUCHbxTK2kQ2ZgBCAw\n",
      "https://www.google.com/setprefs?sig=0_U_N8d0_-Vvv5gsYs771EGAamUKE%3D&hl=ml&source=homepage&sa=X&ved=0ahUKEwjip5rnmPaOAxUJpJUCHbxTK2kQ2ZgBCA0\n",
      "https://www.google.com/setprefs?sig=0_U_N8d0_-Vvv5gsYs771EGAamUKE%3D&hl=pa&source=homepage&sa=X&ved=0ahUKEwjip5rnmPaOAxUJpJUCHbxTK2kQ2ZgBCA4\n",
      "http://www.google.co.in/services/\n",
      "https://www.google.com/setprefdomain?prefdom=IN&prev=https://www.google.co.in/&sig=K_Kr6wTXHufAfJWTwvEKh5CA62kvE%3D\n"
     ]
    }
   ],
   "source": [
    "import re\n",
    "for var in soupObj.find_all('a'):\n",
    "    if(re.search('^http.*',var.get('href'))):\n",
    "        print(var.get('href'))"
   ]
  },
  {
   "cell_type": "code",
   "execution_count": 47,
   "id": "33a8a9da-719a-4bea-9e0f-0055711d3fc5",
   "metadata": {},
   "outputs": [],
   "source": [
    "URLs=[]\n",
    "import re\n",
    "for var in soupObj.find_all('a'):\n",
    "    if(re.search('^http.*',var.get('href'))):\n",
    "        URLs.append(var.get('href'))"
   ]
  },
  {
   "cell_type": "code",
   "execution_count": 48,
   "id": "833ad1e5-5aff-425d-9e85-d3a29061749e",
   "metadata": {},
   "outputs": [
    {
     "name": "stdout",
     "output_type": "stream",
     "text": [
      "<class 'pandas.core.frame.DataFrame'>\n",
      "RangeIndex: 21 entries, 0 to 20\n",
      "Data columns (total 1 columns):\n",
      " #   Column  Non-Null Count  Dtype \n",
      "---  ------  --------------  ----- \n",
      " 0   Google  21 non-null     object\n",
      "dtypes: object(1)\n",
      "memory usage: 300.0+ bytes\n"
     ]
    }
   ],
   "source": [
    "import pandas as pd\n",
    "d={}\n",
    "d['Google'] = URLs\n",
    "df_url = pd.DataFrame(d)\n",
    "df_url.info()"
   ]
  },
  {
   "cell_type": "code",
   "execution_count": 49,
   "id": "d0ac6b99-cd20-4330-b813-1c7f3e52198b",
   "metadata": {},
   "outputs": [
    {
     "data": {
      "text/html": [
       "<div>\n",
       "<style scoped>\n",
       "    .dataframe tbody tr th:only-of-type {\n",
       "        vertical-align: middle;\n",
       "    }\n",
       "\n",
       "    .dataframe tbody tr th {\n",
       "        vertical-align: top;\n",
       "    }\n",
       "\n",
       "    .dataframe thead th {\n",
       "        text-align: right;\n",
       "    }\n",
       "</style>\n",
       "<table border=\"1\" class=\"dataframe\">\n",
       "  <thead>\n",
       "    <tr style=\"text-align: right;\">\n",
       "      <th></th>\n",
       "      <th>Google</th>\n",
       "    </tr>\n",
       "  </thead>\n",
       "  <tbody>\n",
       "    <tr>\n",
       "      <th>0</th>\n",
       "      <td>https://www.google.com/imghp?hl=en&amp;tab=wi</td>\n",
       "    </tr>\n",
       "    <tr>\n",
       "      <th>1</th>\n",
       "      <td>https://maps.google.co.in/maps?hl=en&amp;tab=wl</td>\n",
       "    </tr>\n",
       "    <tr>\n",
       "      <th>2</th>\n",
       "      <td>https://play.google.com/?hl=en&amp;tab=w8</td>\n",
       "    </tr>\n",
       "    <tr>\n",
       "      <th>3</th>\n",
       "      <td>https://www.youtube.com/?tab=w1</td>\n",
       "    </tr>\n",
       "    <tr>\n",
       "      <th>4</th>\n",
       "      <td>https://news.google.com/?tab=wn</td>\n",
       "    </tr>\n",
       "    <tr>\n",
       "      <th>5</th>\n",
       "      <td>https://mail.google.com/mail/?tab=wm</td>\n",
       "    </tr>\n",
       "    <tr>\n",
       "      <th>6</th>\n",
       "      <td>https://drive.google.com/?tab=wo</td>\n",
       "    </tr>\n",
       "    <tr>\n",
       "      <th>7</th>\n",
       "      <td>https://www.google.co.in/intl/en/about/product...</td>\n",
       "    </tr>\n",
       "    <tr>\n",
       "      <th>8</th>\n",
       "      <td>http://www.google.co.in/history/optout?hl=en</td>\n",
       "    </tr>\n",
       "    <tr>\n",
       "      <th>9</th>\n",
       "      <td>https://accounts.google.com/ServiceLogin?hl=en...</td>\n",
       "    </tr>\n",
       "    <tr>\n",
       "      <th>10</th>\n",
       "      <td>https://www.google.com/setprefs?sig=0_U_N8d0_-...</td>\n",
       "    </tr>\n",
       "    <tr>\n",
       "      <th>11</th>\n",
       "      <td>https://www.google.com/setprefs?sig=0_U_N8d0_-...</td>\n",
       "    </tr>\n",
       "    <tr>\n",
       "      <th>12</th>\n",
       "      <td>https://www.google.com/setprefs?sig=0_U_N8d0_-...</td>\n",
       "    </tr>\n",
       "    <tr>\n",
       "      <th>13</th>\n",
       "      <td>https://www.google.com/setprefs?sig=0_U_N8d0_-...</td>\n",
       "    </tr>\n",
       "    <tr>\n",
       "      <th>14</th>\n",
       "      <td>https://www.google.com/setprefs?sig=0_U_N8d0_-...</td>\n",
       "    </tr>\n",
       "    <tr>\n",
       "      <th>15</th>\n",
       "      <td>https://www.google.com/setprefs?sig=0_U_N8d0_-...</td>\n",
       "    </tr>\n",
       "    <tr>\n",
       "      <th>16</th>\n",
       "      <td>https://www.google.com/setprefs?sig=0_U_N8d0_-...</td>\n",
       "    </tr>\n",
       "    <tr>\n",
       "      <th>17</th>\n",
       "      <td>https://www.google.com/setprefs?sig=0_U_N8d0_-...</td>\n",
       "    </tr>\n",
       "    <tr>\n",
       "      <th>18</th>\n",
       "      <td>https://www.google.com/setprefs?sig=0_U_N8d0_-...</td>\n",
       "    </tr>\n",
       "    <tr>\n",
       "      <th>19</th>\n",
       "      <td>http://www.google.co.in/services/</td>\n",
       "    </tr>\n",
       "    <tr>\n",
       "      <th>20</th>\n",
       "      <td>https://www.google.com/setprefdomain?prefdom=I...</td>\n",
       "    </tr>\n",
       "  </tbody>\n",
       "</table>\n",
       "</div>"
      ],
      "text/plain": [
       "                                               Google\n",
       "0           https://www.google.com/imghp?hl=en&tab=wi\n",
       "1         https://maps.google.co.in/maps?hl=en&tab=wl\n",
       "2               https://play.google.com/?hl=en&tab=w8\n",
       "3                     https://www.youtube.com/?tab=w1\n",
       "4                     https://news.google.com/?tab=wn\n",
       "5                https://mail.google.com/mail/?tab=wm\n",
       "6                    https://drive.google.com/?tab=wo\n",
       "7   https://www.google.co.in/intl/en/about/product...\n",
       "8        http://www.google.co.in/history/optout?hl=en\n",
       "9   https://accounts.google.com/ServiceLogin?hl=en...\n",
       "10  https://www.google.com/setprefs?sig=0_U_N8d0_-...\n",
       "11  https://www.google.com/setprefs?sig=0_U_N8d0_-...\n",
       "12  https://www.google.com/setprefs?sig=0_U_N8d0_-...\n",
       "13  https://www.google.com/setprefs?sig=0_U_N8d0_-...\n",
       "14  https://www.google.com/setprefs?sig=0_U_N8d0_-...\n",
       "15  https://www.google.com/setprefs?sig=0_U_N8d0_-...\n",
       "16  https://www.google.com/setprefs?sig=0_U_N8d0_-...\n",
       "17  https://www.google.com/setprefs?sig=0_U_N8d0_-...\n",
       "18  https://www.google.com/setprefs?sig=0_U_N8d0_-...\n",
       "19                  http://www.google.co.in/services/\n",
       "20  https://www.google.com/setprefdomain?prefdom=I..."
      ]
     },
     "execution_count": 49,
     "metadata": {},
     "output_type": "execute_result"
    }
   ],
   "source": [
    "df_url"
   ]
  },
  {
   "cell_type": "code",
   "execution_count": null,
   "id": "783dc959-12a7-40ef-b20c-819ebc169fb2",
   "metadata": {},
   "outputs": [],
   "source": []
  }
 ],
 "metadata": {
  "kernelspec": {
   "display_name": "Python 3.10 (Spark)",
   "language": "python",
   "name": "spark310"
  },
  "language_info": {
   "codemirror_mode": {
    "name": "ipython",
    "version": 3
   },
   "file_extension": ".py",
   "mimetype": "text/x-python",
   "name": "python",
   "nbconvert_exporter": "python",
   "pygments_lexer": "ipython3",
   "version": "3.13.5"
  }
 },
 "nbformat": 4,
 "nbformat_minor": 5
}
