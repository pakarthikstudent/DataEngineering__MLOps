{
 "cells": [
  {
   "cell_type": "code",
   "execution_count": 1,
   "id": "e1be5fb7-addf-41c4-9871-f8eb9e781745",
   "metadata": {},
   "outputs": [],
   "source": [
    "import numpy as np\n",
    "import pandas as pd\n"
   ]
  },
  {
   "cell_type": "code",
   "execution_count": 2,
   "id": "fbaeacae-833c-4366-98b8-5c2753fd4b32",
   "metadata": {},
   "outputs": [
    {
     "data": {
      "text/html": [
       "<div>\n",
       "<style scoped>\n",
       "    .dataframe tbody tr th:only-of-type {\n",
       "        vertical-align: middle;\n",
       "    }\n",
       "\n",
       "    .dataframe tbody tr th {\n",
       "        vertical-align: top;\n",
       "    }\n",
       "\n",
       "    .dataframe thead th {\n",
       "        text-align: right;\n",
       "    }\n",
       "</style>\n",
       "<table border=\"1\" class=\"dataframe\">\n",
       "  <thead>\n",
       "    <tr style=\"text-align: right;\">\n",
       "      <th></th>\n",
       "      <th>eid</th>\n",
       "      <th>ename</th>\n",
       "      <th>edept</th>\n",
       "      <th>ecity</th>\n",
       "      <th>ecost</th>\n",
       "    </tr>\n",
       "  </thead>\n",
       "  <tbody>\n",
       "    <tr>\n",
       "      <th>0</th>\n",
       "      <td>101</td>\n",
       "      <td>raj</td>\n",
       "      <td>sales</td>\n",
       "      <td>pune</td>\n",
       "      <td>1000</td>\n",
       "    </tr>\n",
       "    <tr>\n",
       "      <th>1</th>\n",
       "      <td>102</td>\n",
       "      <td>leo</td>\n",
       "      <td>prod</td>\n",
       "      <td>bglore</td>\n",
       "      <td>2301</td>\n",
       "    </tr>\n",
       "    <tr>\n",
       "      <th>2</th>\n",
       "      <td>230</td>\n",
       "      <td>raj</td>\n",
       "      <td>prod</td>\n",
       "      <td>pune</td>\n",
       "      <td>2300</td>\n",
       "    </tr>\n",
       "    <tr>\n",
       "      <th>3</th>\n",
       "      <td>450</td>\n",
       "      <td>shan</td>\n",
       "      <td>sales</td>\n",
       "      <td>bglore</td>\n",
       "      <td>3401</td>\n",
       "    </tr>\n",
       "    <tr>\n",
       "      <th>4</th>\n",
       "      <td>542</td>\n",
       "      <td>anu</td>\n",
       "      <td>HR</td>\n",
       "      <td>mumbai</td>\n",
       "      <td>4590</td>\n",
       "    </tr>\n",
       "    <tr>\n",
       "      <th>5</th>\n",
       "      <td>321</td>\n",
       "      <td>bibu</td>\n",
       "      <td>sales</td>\n",
       "      <td>hyd</td>\n",
       "      <td>5419</td>\n",
       "    </tr>\n",
       "    <tr>\n",
       "      <th>6</th>\n",
       "      <td>651</td>\n",
       "      <td>ram</td>\n",
       "      <td>hr</td>\n",
       "      <td>bglore</td>\n",
       "      <td>3130</td>\n",
       "    </tr>\n",
       "    <tr>\n",
       "      <th>7</th>\n",
       "      <td>541</td>\n",
       "      <td>leo</td>\n",
       "      <td>admin</td>\n",
       "      <td>chennai</td>\n",
       "      <td>4913</td>\n",
       "    </tr>\n",
       "    <tr>\n",
       "      <th>8</th>\n",
       "      <td>652</td>\n",
       "      <td>karthik</td>\n",
       "      <td>sales</td>\n",
       "      <td>bglore</td>\n",
       "      <td>3405</td>\n",
       "    </tr>\n",
       "  </tbody>\n",
       "</table>\n",
       "</div>"
      ],
      "text/plain": [
       "   eid    ename  edept    ecity  ecost\n",
       "0  101      raj  sales     pune   1000\n",
       "1  102      leo   prod   bglore   2301\n",
       "2  230      raj   prod     pune   2300\n",
       "3  450     shan  sales   bglore   3401\n",
       "4  542      anu     HR   mumbai   4590\n",
       "5  321     bibu  sales      hyd   5419\n",
       "6  651      ram     hr   bglore   3130\n",
       "7  541      leo  admin  chennai   4913\n",
       "8  652  karthik  sales   bglore   3405"
      ]
     },
     "execution_count": 2,
     "metadata": {},
     "output_type": "execute_result"
    }
   ],
   "source": [
    "pd.read_csv('emp.csv')"
   ]
  },
  {
   "cell_type": "code",
   "execution_count": 3,
   "id": "fabd5877-db8b-4988-9bec-123c65bed96a",
   "metadata": {},
   "outputs": [
    {
     "data": {
      "text/html": [
       "<div>\n",
       "<style scoped>\n",
       "    .dataframe tbody tr th:only-of-type {\n",
       "        vertical-align: middle;\n",
       "    }\n",
       "\n",
       "    .dataframe tbody tr th {\n",
       "        vertical-align: top;\n",
       "    }\n",
       "\n",
       "    .dataframe thead th {\n",
       "        text-align: right;\n",
       "    }\n",
       "</style>\n",
       "<table border=\"1\" class=\"dataframe\">\n",
       "  <thead>\n",
       "    <tr style=\"text-align: right;\">\n",
       "      <th></th>\n",
       "      <th>eid</th>\n",
       "      <th>ename</th>\n",
       "      <th>ecity</th>\n",
       "      <th>ecost</th>\n",
       "    </tr>\n",
       "    <tr>\n",
       "      <th>edept</th>\n",
       "      <th></th>\n",
       "      <th></th>\n",
       "      <th></th>\n",
       "      <th></th>\n",
       "    </tr>\n",
       "  </thead>\n",
       "  <tbody>\n",
       "    <tr>\n",
       "      <th>sales</th>\n",
       "      <td>101</td>\n",
       "      <td>raj</td>\n",
       "      <td>pune</td>\n",
       "      <td>1000</td>\n",
       "    </tr>\n",
       "    <tr>\n",
       "      <th>prod</th>\n",
       "      <td>102</td>\n",
       "      <td>leo</td>\n",
       "      <td>bglore</td>\n",
       "      <td>2301</td>\n",
       "    </tr>\n",
       "    <tr>\n",
       "      <th>prod</th>\n",
       "      <td>230</td>\n",
       "      <td>raj</td>\n",
       "      <td>pune</td>\n",
       "      <td>2300</td>\n",
       "    </tr>\n",
       "    <tr>\n",
       "      <th>sales</th>\n",
       "      <td>450</td>\n",
       "      <td>shan</td>\n",
       "      <td>bglore</td>\n",
       "      <td>3401</td>\n",
       "    </tr>\n",
       "    <tr>\n",
       "      <th>HR</th>\n",
       "      <td>542</td>\n",
       "      <td>anu</td>\n",
       "      <td>mumbai</td>\n",
       "      <td>4590</td>\n",
       "    </tr>\n",
       "    <tr>\n",
       "      <th>sales</th>\n",
       "      <td>321</td>\n",
       "      <td>bibu</td>\n",
       "      <td>hyd</td>\n",
       "      <td>5419</td>\n",
       "    </tr>\n",
       "    <tr>\n",
       "      <th>hr</th>\n",
       "      <td>651</td>\n",
       "      <td>ram</td>\n",
       "      <td>bglore</td>\n",
       "      <td>3130</td>\n",
       "    </tr>\n",
       "    <tr>\n",
       "      <th>admin</th>\n",
       "      <td>541</td>\n",
       "      <td>leo</td>\n",
       "      <td>chennai</td>\n",
       "      <td>4913</td>\n",
       "    </tr>\n",
       "    <tr>\n",
       "      <th>sales</th>\n",
       "      <td>652</td>\n",
       "      <td>karthik</td>\n",
       "      <td>bglore</td>\n",
       "      <td>3405</td>\n",
       "    </tr>\n",
       "  </tbody>\n",
       "</table>\n",
       "</div>"
      ],
      "text/plain": [
       "       eid    ename    ecity  ecost\n",
       "edept                              \n",
       "sales  101      raj     pune   1000\n",
       "prod   102      leo   bglore   2301\n",
       "prod   230      raj     pune   2300\n",
       "sales  450     shan   bglore   3401\n",
       "HR     542      anu   mumbai   4590\n",
       "sales  321     bibu      hyd   5419\n",
       "hr     651      ram   bglore   3130\n",
       "admin  541      leo  chennai   4913\n",
       "sales  652  karthik   bglore   3405"
      ]
     },
     "execution_count": 3,
     "metadata": {},
     "output_type": "execute_result"
    }
   ],
   "source": [
    "pd.read_csv('emp.csv',index_col='edept')"
   ]
  },
  {
   "cell_type": "code",
   "execution_count": 4,
   "id": "97170bc0-4f6e-493d-af66-a87a6c83d592",
   "metadata": {},
   "outputs": [
    {
     "data": {
      "text/html": [
       "<div>\n",
       "<style scoped>\n",
       "    .dataframe tbody tr th:only-of-type {\n",
       "        vertical-align: middle;\n",
       "    }\n",
       "\n",
       "    .dataframe tbody tr th {\n",
       "        vertical-align: top;\n",
       "    }\n",
       "\n",
       "    .dataframe thead th {\n",
       "        text-align: right;\n",
       "    }\n",
       "</style>\n",
       "<table border=\"1\" class=\"dataframe\">\n",
       "  <thead>\n",
       "    <tr style=\"text-align: right;\">\n",
       "      <th></th>\n",
       "      <th>eid</th>\n",
       "      <th>ename</th>\n",
       "      <th>ecity</th>\n",
       "      <th>ecost</th>\n",
       "    </tr>\n",
       "    <tr>\n",
       "      <th>edept</th>\n",
       "      <th></th>\n",
       "      <th></th>\n",
       "      <th></th>\n",
       "      <th></th>\n",
       "    </tr>\n",
       "  </thead>\n",
       "  <tbody>\n",
       "    <tr>\n",
       "      <th>sales</th>\n",
       "      <td>101</td>\n",
       "      <td>raj</td>\n",
       "      <td>pune</td>\n",
       "      <td>1000</td>\n",
       "    </tr>\n",
       "    <tr>\n",
       "      <th>prod</th>\n",
       "      <td>102</td>\n",
       "      <td>leo</td>\n",
       "      <td>bglore</td>\n",
       "      <td>2301</td>\n",
       "    </tr>\n",
       "    <tr>\n",
       "      <th>prod</th>\n",
       "      <td>230</td>\n",
       "      <td>raj</td>\n",
       "      <td>pune</td>\n",
       "      <td>2300</td>\n",
       "    </tr>\n",
       "    <tr>\n",
       "      <th>sales</th>\n",
       "      <td>450</td>\n",
       "      <td>shan</td>\n",
       "      <td>bglore</td>\n",
       "      <td>3401</td>\n",
       "    </tr>\n",
       "    <tr>\n",
       "      <th>HR</th>\n",
       "      <td>542</td>\n",
       "      <td>anu</td>\n",
       "      <td>mumbai</td>\n",
       "      <td>4590</td>\n",
       "    </tr>\n",
       "    <tr>\n",
       "      <th>sales</th>\n",
       "      <td>321</td>\n",
       "      <td>bibu</td>\n",
       "      <td>hyd</td>\n",
       "      <td>5419</td>\n",
       "    </tr>\n",
       "    <tr>\n",
       "      <th>hr</th>\n",
       "      <td>651</td>\n",
       "      <td>ram</td>\n",
       "      <td>bglore</td>\n",
       "      <td>3130</td>\n",
       "    </tr>\n",
       "    <tr>\n",
       "      <th>admin</th>\n",
       "      <td>541</td>\n",
       "      <td>leo</td>\n",
       "      <td>chennai</td>\n",
       "      <td>4913</td>\n",
       "    </tr>\n",
       "    <tr>\n",
       "      <th>sales</th>\n",
       "      <td>652</td>\n",
       "      <td>karthik</td>\n",
       "      <td>bglore</td>\n",
       "      <td>3405</td>\n",
       "    </tr>\n",
       "  </tbody>\n",
       "</table>\n",
       "</div>"
      ],
      "text/plain": [
       "       eid    ename    ecity  ecost\n",
       "edept                              \n",
       "sales  101      raj     pune   1000\n",
       "prod   102      leo   bglore   2301\n",
       "prod   230      raj     pune   2300\n",
       "sales  450     shan   bglore   3401\n",
       "HR     542      anu   mumbai   4590\n",
       "sales  321     bibu      hyd   5419\n",
       "hr     651      ram   bglore   3130\n",
       "admin  541      leo  chennai   4913\n",
       "sales  652  karthik   bglore   3405"
      ]
     },
     "execution_count": 4,
     "metadata": {},
     "output_type": "execute_result"
    }
   ],
   "source": [
    "df_dept = pd.read_csv('emp.csv',index_col='edept')\n",
    "df_dept"
   ]
  },
  {
   "cell_type": "code",
   "execution_count": 6,
   "id": "498e7ea5-738a-4ccc-8b8c-fa338aeff56d",
   "metadata": {},
   "outputs": [
    {
     "data": {
      "text/html": [
       "<div>\n",
       "<style scoped>\n",
       "    .dataframe tbody tr th:only-of-type {\n",
       "        vertical-align: middle;\n",
       "    }\n",
       "\n",
       "    .dataframe tbody tr th {\n",
       "        vertical-align: top;\n",
       "    }\n",
       "\n",
       "    .dataframe thead th {\n",
       "        text-align: right;\n",
       "    }\n",
       "</style>\n",
       "<table border=\"1\" class=\"dataframe\">\n",
       "  <thead>\n",
       "    <tr style=\"text-align: right;\">\n",
       "      <th></th>\n",
       "      <th>eid</th>\n",
       "      <th>ename</th>\n",
       "      <th>ecity</th>\n",
       "      <th>ecost</th>\n",
       "    </tr>\n",
       "    <tr>\n",
       "      <th>edept</th>\n",
       "      <th></th>\n",
       "      <th></th>\n",
       "      <th></th>\n",
       "      <th></th>\n",
       "    </tr>\n",
       "  </thead>\n",
       "  <tbody>\n",
       "    <tr>\n",
       "      <th>sales</th>\n",
       "      <td>101</td>\n",
       "      <td>raj</td>\n",
       "      <td>pune</td>\n",
       "      <td>1000</td>\n",
       "    </tr>\n",
       "    <tr>\n",
       "      <th>sales</th>\n",
       "      <td>450</td>\n",
       "      <td>shan</td>\n",
       "      <td>bglore</td>\n",
       "      <td>3401</td>\n",
       "    </tr>\n",
       "    <tr>\n",
       "      <th>sales</th>\n",
       "      <td>321</td>\n",
       "      <td>bibu</td>\n",
       "      <td>hyd</td>\n",
       "      <td>5419</td>\n",
       "    </tr>\n",
       "    <tr>\n",
       "      <th>sales</th>\n",
       "      <td>652</td>\n",
       "      <td>karthik</td>\n",
       "      <td>bglore</td>\n",
       "      <td>3405</td>\n",
       "    </tr>\n",
       "  </tbody>\n",
       "</table>\n",
       "</div>"
      ],
      "text/plain": [
       "       eid    ename   ecity  ecost\n",
       "edept                             \n",
       "sales  101      raj    pune   1000\n",
       "sales  450     shan  bglore   3401\n",
       "sales  321     bibu     hyd   5419\n",
       "sales  652  karthik  bglore   3405"
      ]
     },
     "execution_count": 6,
     "metadata": {},
     "output_type": "execute_result"
    }
   ],
   "source": [
    "df_dept.loc['sales']"
   ]
  },
  {
   "cell_type": "code",
   "execution_count": null,
   "id": "cd18382a-12a4-432e-b3a3-e7c22062b7f1",
   "metadata": {},
   "outputs": [],
   "source": [
    "Use case:       [H1] [H2] \n",
    " [person1] ----> ...  ..\n",
    " name age gender bgroup \n",
    " ----------------------\n",
    "\n",
    "name ->filter\n",
    "age ->filter\n",
    "gender ->filter\n",
    "bgroup ->filter"
   ]
  },
  {
   "cell_type": "code",
   "execution_count": 7,
   "id": "026ca8dc-e7eb-4e0e-8ee2-d2267bf39f9d",
   "metadata": {},
   "outputs": [
    {
     "data": {
      "text/html": [
       "<div>\n",
       "<style scoped>\n",
       "    .dataframe tbody tr th:only-of-type {\n",
       "        vertical-align: middle;\n",
       "    }\n",
       "\n",
       "    .dataframe tbody tr th {\n",
       "        vertical-align: top;\n",
       "    }\n",
       "\n",
       "    .dataframe thead th {\n",
       "        text-align: right;\n",
       "    }\n",
       "</style>\n",
       "<table border=\"1\" class=\"dataframe\">\n",
       "  <thead>\n",
       "    <tr style=\"text-align: right;\">\n",
       "      <th></th>\n",
       "      <th>eid</th>\n",
       "      <th>ename</th>\n",
       "      <th>ecity</th>\n",
       "      <th>ecost</th>\n",
       "    </tr>\n",
       "    <tr>\n",
       "      <th>edept</th>\n",
       "      <th></th>\n",
       "      <th></th>\n",
       "      <th></th>\n",
       "      <th></th>\n",
       "    </tr>\n",
       "  </thead>\n",
       "  <tbody>\n",
       "    <tr>\n",
       "      <th>sales</th>\n",
       "      <td>101</td>\n",
       "      <td>raj</td>\n",
       "      <td>pune</td>\n",
       "      <td>1000</td>\n",
       "    </tr>\n",
       "    <tr>\n",
       "      <th>sales</th>\n",
       "      <td>450</td>\n",
       "      <td>shan</td>\n",
       "      <td>bglore</td>\n",
       "      <td>3401</td>\n",
       "    </tr>\n",
       "    <tr>\n",
       "      <th>sales</th>\n",
       "      <td>321</td>\n",
       "      <td>bibu</td>\n",
       "      <td>hyd</td>\n",
       "      <td>5419</td>\n",
       "    </tr>\n",
       "    <tr>\n",
       "      <th>sales</th>\n",
       "      <td>652</td>\n",
       "      <td>karthik</td>\n",
       "      <td>bglore</td>\n",
       "      <td>3405</td>\n",
       "    </tr>\n",
       "    <tr>\n",
       "      <th>prod</th>\n",
       "      <td>102</td>\n",
       "      <td>leo</td>\n",
       "      <td>bglore</td>\n",
       "      <td>2301</td>\n",
       "    </tr>\n",
       "    <tr>\n",
       "      <th>prod</th>\n",
       "      <td>230</td>\n",
       "      <td>raj</td>\n",
       "      <td>pune</td>\n",
       "      <td>2300</td>\n",
       "    </tr>\n",
       "  </tbody>\n",
       "</table>\n",
       "</div>"
      ],
      "text/plain": [
       "       eid    ename   ecity  ecost\n",
       "edept                             \n",
       "sales  101      raj    pune   1000\n",
       "sales  450     shan  bglore   3401\n",
       "sales  321     bibu     hyd   5419\n",
       "sales  652  karthik  bglore   3405\n",
       "prod   102      leo  bglore   2301\n",
       "prod   230      raj    pune   2300"
      ]
     },
     "execution_count": 7,
     "metadata": {},
     "output_type": "execute_result"
    }
   ],
   "source": [
    "df_dept.loc[['sales','prod']]"
   ]
  },
  {
   "cell_type": "code",
   "execution_count": 8,
   "id": "779e8d32-4406-41b6-8fe6-0aa2e0544d3d",
   "metadata": {},
   "outputs": [
    {
     "data": {
      "text/plain": [
       "edept\n",
       "sales    1000\n",
       "prod     2301\n",
       "prod     2300\n",
       "sales    3401\n",
       "HR       4590\n",
       "sales    5419\n",
       "hr       3130\n",
       "admin    4913\n",
       "sales    3405\n",
       "Name: ecost, dtype: int64"
      ]
     },
     "execution_count": 8,
     "metadata": {},
     "output_type": "execute_result"
    }
   ],
   "source": [
    "# boolean index\n",
    "# -------\n",
    "df_dept['ecost']"
   ]
  },
  {
   "cell_type": "code",
   "execution_count": 9,
   "id": "ce08a99c-0a78-4b2c-8ea8-f2b1c5cb5e62",
   "metadata": {},
   "outputs": [
    {
     "data": {
      "text/plain": [
       "edept\n",
       "sales    False\n",
       "prod     False\n",
       "prod     False\n",
       "sales    False\n",
       "HR        True\n",
       "sales     True\n",
       "hr       False\n",
       "admin     True\n",
       "sales    False\n",
       "Name: ecost, dtype: bool"
      ]
     },
     "execution_count": 9,
     "metadata": {},
     "output_type": "execute_result"
    }
   ],
   "source": [
    "df_dept['ecost'] >4000"
   ]
  },
  {
   "cell_type": "code",
   "execution_count": 10,
   "id": "d61381ba-e1ef-4012-b2d7-96b84fa625c7",
   "metadata": {},
   "outputs": [
    {
     "data": {
      "text/html": [
       "<div>\n",
       "<style scoped>\n",
       "    .dataframe tbody tr th:only-of-type {\n",
       "        vertical-align: middle;\n",
       "    }\n",
       "\n",
       "    .dataframe tbody tr th {\n",
       "        vertical-align: top;\n",
       "    }\n",
       "\n",
       "    .dataframe thead th {\n",
       "        text-align: right;\n",
       "    }\n",
       "</style>\n",
       "<table border=\"1\" class=\"dataframe\">\n",
       "  <thead>\n",
       "    <tr style=\"text-align: right;\">\n",
       "      <th></th>\n",
       "      <th>eid</th>\n",
       "      <th>ename</th>\n",
       "      <th>ecity</th>\n",
       "      <th>ecost</th>\n",
       "    </tr>\n",
       "    <tr>\n",
       "      <th>edept</th>\n",
       "      <th></th>\n",
       "      <th></th>\n",
       "      <th></th>\n",
       "      <th></th>\n",
       "    </tr>\n",
       "  </thead>\n",
       "  <tbody>\n",
       "    <tr>\n",
       "      <th>HR</th>\n",
       "      <td>542</td>\n",
       "      <td>anu</td>\n",
       "      <td>mumbai</td>\n",
       "      <td>4590</td>\n",
       "    </tr>\n",
       "    <tr>\n",
       "      <th>sales</th>\n",
       "      <td>321</td>\n",
       "      <td>bibu</td>\n",
       "      <td>hyd</td>\n",
       "      <td>5419</td>\n",
       "    </tr>\n",
       "    <tr>\n",
       "      <th>admin</th>\n",
       "      <td>541</td>\n",
       "      <td>leo</td>\n",
       "      <td>chennai</td>\n",
       "      <td>4913</td>\n",
       "    </tr>\n",
       "  </tbody>\n",
       "</table>\n",
       "</div>"
      ],
      "text/plain": [
       "       eid ename    ecity  ecost\n",
       "edept                           \n",
       "HR     542   anu   mumbai   4590\n",
       "sales  321  bibu      hyd   5419\n",
       "admin  541   leo  chennai   4913"
      ]
     },
     "execution_count": 10,
     "metadata": {},
     "output_type": "execute_result"
    }
   ],
   "source": [
    "df_dept[df_dept['ecost'] >4000]"
   ]
  },
  {
   "cell_type": "code",
   "execution_count": 11,
   "id": "f256eec3-8773-4276-ab12-beee4f13c65b",
   "metadata": {},
   "outputs": [],
   "source": [
    "df_dept.to_csv('t1.csv')\n",
    "df_dept.to_csv('t1.log',sep=':')\n",
    "df_dept.to_excel('t1.xlsx')"
   ]
  },
  {
   "cell_type": "code",
   "execution_count": 12,
   "id": "60f19763-9732-493b-92de-e9c743c220fb",
   "metadata": {},
   "outputs": [
    {
     "data": {
      "text/html": [
       "<div>\n",
       "<style scoped>\n",
       "    .dataframe tbody tr th:only-of-type {\n",
       "        vertical-align: middle;\n",
       "    }\n",
       "\n",
       "    .dataframe tbody tr th {\n",
       "        vertical-align: top;\n",
       "    }\n",
       "\n",
       "    .dataframe thead th {\n",
       "        text-align: right;\n",
       "    }\n",
       "</style>\n",
       "<table border=\"1\" class=\"dataframe\">\n",
       "  <thead>\n",
       "    <tr style=\"text-align: right;\">\n",
       "      <th></th>\n",
       "      <th>edept:eid:ename:ecity:ecost</th>\n",
       "    </tr>\n",
       "  </thead>\n",
       "  <tbody>\n",
       "    <tr>\n",
       "      <th>0</th>\n",
       "      <td>sales:101:raj:pune:1000</td>\n",
       "    </tr>\n",
       "    <tr>\n",
       "      <th>1</th>\n",
       "      <td>prod:102:leo:bglore:2301</td>\n",
       "    </tr>\n",
       "    <tr>\n",
       "      <th>2</th>\n",
       "      <td>prod:230:raj:pune:2300</td>\n",
       "    </tr>\n",
       "    <tr>\n",
       "      <th>3</th>\n",
       "      <td>sales:450:shan:bglore:3401</td>\n",
       "    </tr>\n",
       "    <tr>\n",
       "      <th>4</th>\n",
       "      <td>HR:542:anu:mumbai:4590</td>\n",
       "    </tr>\n",
       "    <tr>\n",
       "      <th>5</th>\n",
       "      <td>sales:321:bibu:hyd:5419</td>\n",
       "    </tr>\n",
       "    <tr>\n",
       "      <th>6</th>\n",
       "      <td>hr:651:ram:bglore:3130</td>\n",
       "    </tr>\n",
       "    <tr>\n",
       "      <th>7</th>\n",
       "      <td>admin:541:leo:chennai:4913</td>\n",
       "    </tr>\n",
       "    <tr>\n",
       "      <th>8</th>\n",
       "      <td>sales:652:karthik:bglore:3405</td>\n",
       "    </tr>\n",
       "  </tbody>\n",
       "</table>\n",
       "</div>"
      ],
      "text/plain": [
       "     edept:eid:ename:ecity:ecost\n",
       "0        sales:101:raj:pune:1000\n",
       "1       prod:102:leo:bglore:2301\n",
       "2         prod:230:raj:pune:2300\n",
       "3     sales:450:shan:bglore:3401\n",
       "4         HR:542:anu:mumbai:4590\n",
       "5        sales:321:bibu:hyd:5419\n",
       "6         hr:651:ram:bglore:3130\n",
       "7     admin:541:leo:chennai:4913\n",
       "8  sales:652:karthik:bglore:3405"
      ]
     },
     "execution_count": 12,
     "metadata": {},
     "output_type": "execute_result"
    }
   ],
   "source": [
    "pd.read_csv('t1.log')"
   ]
  },
  {
   "cell_type": "code",
   "execution_count": 13,
   "id": "951a4e92-05f9-4172-a632-96c32d2a2212",
   "metadata": {},
   "outputs": [
    {
     "data": {
      "text/html": [
       "<div>\n",
       "<style scoped>\n",
       "    .dataframe tbody tr th:only-of-type {\n",
       "        vertical-align: middle;\n",
       "    }\n",
       "\n",
       "    .dataframe tbody tr th {\n",
       "        vertical-align: top;\n",
       "    }\n",
       "\n",
       "    .dataframe thead th {\n",
       "        text-align: right;\n",
       "    }\n",
       "</style>\n",
       "<table border=\"1\" class=\"dataframe\">\n",
       "  <thead>\n",
       "    <tr style=\"text-align: right;\">\n",
       "      <th></th>\n",
       "      <th>edept</th>\n",
       "      <th>eid</th>\n",
       "      <th>ename</th>\n",
       "      <th>ecity</th>\n",
       "      <th>ecost</th>\n",
       "    </tr>\n",
       "  </thead>\n",
       "  <tbody>\n",
       "    <tr>\n",
       "      <th>0</th>\n",
       "      <td>sales</td>\n",
       "      <td>101</td>\n",
       "      <td>raj</td>\n",
       "      <td>pune</td>\n",
       "      <td>1000</td>\n",
       "    </tr>\n",
       "    <tr>\n",
       "      <th>1</th>\n",
       "      <td>prod</td>\n",
       "      <td>102</td>\n",
       "      <td>leo</td>\n",
       "      <td>bglore</td>\n",
       "      <td>2301</td>\n",
       "    </tr>\n",
       "    <tr>\n",
       "      <th>2</th>\n",
       "      <td>prod</td>\n",
       "      <td>230</td>\n",
       "      <td>raj</td>\n",
       "      <td>pune</td>\n",
       "      <td>2300</td>\n",
       "    </tr>\n",
       "    <tr>\n",
       "      <th>3</th>\n",
       "      <td>sales</td>\n",
       "      <td>450</td>\n",
       "      <td>shan</td>\n",
       "      <td>bglore</td>\n",
       "      <td>3401</td>\n",
       "    </tr>\n",
       "    <tr>\n",
       "      <th>4</th>\n",
       "      <td>HR</td>\n",
       "      <td>542</td>\n",
       "      <td>anu</td>\n",
       "      <td>mumbai</td>\n",
       "      <td>4590</td>\n",
       "    </tr>\n",
       "    <tr>\n",
       "      <th>5</th>\n",
       "      <td>sales</td>\n",
       "      <td>321</td>\n",
       "      <td>bibu</td>\n",
       "      <td>hyd</td>\n",
       "      <td>5419</td>\n",
       "    </tr>\n",
       "    <tr>\n",
       "      <th>6</th>\n",
       "      <td>hr</td>\n",
       "      <td>651</td>\n",
       "      <td>ram</td>\n",
       "      <td>bglore</td>\n",
       "      <td>3130</td>\n",
       "    </tr>\n",
       "    <tr>\n",
       "      <th>7</th>\n",
       "      <td>admin</td>\n",
       "      <td>541</td>\n",
       "      <td>leo</td>\n",
       "      <td>chennai</td>\n",
       "      <td>4913</td>\n",
       "    </tr>\n",
       "    <tr>\n",
       "      <th>8</th>\n",
       "      <td>sales</td>\n",
       "      <td>652</td>\n",
       "      <td>karthik</td>\n",
       "      <td>bglore</td>\n",
       "      <td>3405</td>\n",
       "    </tr>\n",
       "  </tbody>\n",
       "</table>\n",
       "</div>"
      ],
      "text/plain": [
       "   edept  eid    ename    ecity  ecost\n",
       "0  sales  101      raj     pune   1000\n",
       "1   prod  102      leo   bglore   2301\n",
       "2   prod  230      raj     pune   2300\n",
       "3  sales  450     shan   bglore   3401\n",
       "4     HR  542      anu   mumbai   4590\n",
       "5  sales  321     bibu      hyd   5419\n",
       "6     hr  651      ram   bglore   3130\n",
       "7  admin  541      leo  chennai   4913\n",
       "8  sales  652  karthik   bglore   3405"
      ]
     },
     "execution_count": 13,
     "metadata": {},
     "output_type": "execute_result"
    }
   ],
   "source": [
    "pd.read_csv('t1.log',sep=\":\")"
   ]
  },
  {
   "cell_type": "code",
   "execution_count": 14,
   "id": "58b3c935-b061-48a7-9f1d-7780956bd102",
   "metadata": {},
   "outputs": [
    {
     "data": {
      "text/html": [
       "<div>\n",
       "<style scoped>\n",
       "    .dataframe tbody tr th:only-of-type {\n",
       "        vertical-align: middle;\n",
       "    }\n",
       "\n",
       "    .dataframe tbody tr th {\n",
       "        vertical-align: top;\n",
       "    }\n",
       "\n",
       "    .dataframe thead th {\n",
       "        text-align: right;\n",
       "    }\n",
       "</style>\n",
       "<table border=\"1\" class=\"dataframe\">\n",
       "  <thead>\n",
       "    <tr style=\"text-align: right;\">\n",
       "      <th></th>\n",
       "      <th>edept</th>\n",
       "      <th>eid</th>\n",
       "      <th>ename</th>\n",
       "      <th>ecity</th>\n",
       "      <th>ecost</th>\n",
       "    </tr>\n",
       "  </thead>\n",
       "  <tbody>\n",
       "    <tr>\n",
       "      <th>0</th>\n",
       "      <td>sales</td>\n",
       "      <td>101</td>\n",
       "      <td>raj</td>\n",
       "      <td>pune</td>\n",
       "      <td>1000</td>\n",
       "    </tr>\n",
       "    <tr>\n",
       "      <th>1</th>\n",
       "      <td>prod</td>\n",
       "      <td>102</td>\n",
       "      <td>leo</td>\n",
       "      <td>bglore</td>\n",
       "      <td>2301</td>\n",
       "    </tr>\n",
       "    <tr>\n",
       "      <th>2</th>\n",
       "      <td>prod</td>\n",
       "      <td>230</td>\n",
       "      <td>raj</td>\n",
       "      <td>pune</td>\n",
       "      <td>2300</td>\n",
       "    </tr>\n",
       "    <tr>\n",
       "      <th>3</th>\n",
       "      <td>sales</td>\n",
       "      <td>450</td>\n",
       "      <td>shan</td>\n",
       "      <td>bglore</td>\n",
       "      <td>3401</td>\n",
       "    </tr>\n",
       "    <tr>\n",
       "      <th>4</th>\n",
       "      <td>HR</td>\n",
       "      <td>542</td>\n",
       "      <td>anu</td>\n",
       "      <td>mumbai</td>\n",
       "      <td>4590</td>\n",
       "    </tr>\n",
       "    <tr>\n",
       "      <th>5</th>\n",
       "      <td>sales</td>\n",
       "      <td>321</td>\n",
       "      <td>bibu</td>\n",
       "      <td>hyd</td>\n",
       "      <td>5419</td>\n",
       "    </tr>\n",
       "    <tr>\n",
       "      <th>6</th>\n",
       "      <td>hr</td>\n",
       "      <td>651</td>\n",
       "      <td>ram</td>\n",
       "      <td>bglore</td>\n",
       "      <td>3130</td>\n",
       "    </tr>\n",
       "    <tr>\n",
       "      <th>7</th>\n",
       "      <td>admin</td>\n",
       "      <td>541</td>\n",
       "      <td>leo</td>\n",
       "      <td>chennai</td>\n",
       "      <td>4913</td>\n",
       "    </tr>\n",
       "    <tr>\n",
       "      <th>8</th>\n",
       "      <td>sales</td>\n",
       "      <td>652</td>\n",
       "      <td>karthik</td>\n",
       "      <td>bglore</td>\n",
       "      <td>3405</td>\n",
       "    </tr>\n",
       "  </tbody>\n",
       "</table>\n",
       "</div>"
      ],
      "text/plain": [
       "   edept  eid    ename    ecity  ecost\n",
       "0  sales  101      raj     pune   1000\n",
       "1   prod  102      leo   bglore   2301\n",
       "2   prod  230      raj     pune   2300\n",
       "3  sales  450     shan   bglore   3401\n",
       "4     HR  542      anu   mumbai   4590\n",
       "5  sales  321     bibu      hyd   5419\n",
       "6     hr  651      ram   bglore   3130\n",
       "7  admin  541      leo  chennai   4913\n",
       "8  sales  652  karthik   bglore   3405"
      ]
     },
     "execution_count": 14,
     "metadata": {},
     "output_type": "execute_result"
    }
   ],
   "source": [
    "pd.read_excel('t1.xlsx')"
   ]
  },
  {
   "cell_type": "code",
   "execution_count": 15,
   "id": "214b1d00-fc4d-4a86-9b7e-70fba4e1c221",
   "metadata": {},
   "outputs": [
    {
     "data": {
      "text/html": [
       "<div>\n",
       "<style scoped>\n",
       "    .dataframe tbody tr th:only-of-type {\n",
       "        vertical-align: middle;\n",
       "    }\n",
       "\n",
       "    .dataframe tbody tr th {\n",
       "        vertical-align: top;\n",
       "    }\n",
       "\n",
       "    .dataframe thead th {\n",
       "        text-align: right;\n",
       "    }\n",
       "</style>\n",
       "<table border=\"1\" class=\"dataframe\">\n",
       "  <thead>\n",
       "    <tr style=\"text-align: right;\">\n",
       "      <th></th>\n",
       "      <th>edept</th>\n",
       "      <th>eid</th>\n",
       "      <th>ename</th>\n",
       "      <th>ecity</th>\n",
       "      <th>ecost</th>\n",
       "    </tr>\n",
       "  </thead>\n",
       "  <tbody>\n",
       "    <tr>\n",
       "      <th>0</th>\n",
       "      <td>sales</td>\n",
       "      <td>101</td>\n",
       "      <td>raj</td>\n",
       "      <td>pune</td>\n",
       "      <td>1000</td>\n",
       "    </tr>\n",
       "    <tr>\n",
       "      <th>1</th>\n",
       "      <td>prod</td>\n",
       "      <td>102</td>\n",
       "      <td>leo</td>\n",
       "      <td>bglore</td>\n",
       "      <td>2301</td>\n",
       "    </tr>\n",
       "    <tr>\n",
       "      <th>2</th>\n",
       "      <td>prod</td>\n",
       "      <td>230</td>\n",
       "      <td>raj</td>\n",
       "      <td>pune</td>\n",
       "      <td>2300</td>\n",
       "    </tr>\n",
       "    <tr>\n",
       "      <th>3</th>\n",
       "      <td>sales</td>\n",
       "      <td>450</td>\n",
       "      <td>shan</td>\n",
       "      <td>bglore</td>\n",
       "      <td>3401</td>\n",
       "    </tr>\n",
       "    <tr>\n",
       "      <th>4</th>\n",
       "      <td>HR</td>\n",
       "      <td>542</td>\n",
       "      <td>anu</td>\n",
       "      <td>mumbai</td>\n",
       "      <td>4590</td>\n",
       "    </tr>\n",
       "    <tr>\n",
       "      <th>5</th>\n",
       "      <td>sales</td>\n",
       "      <td>321</td>\n",
       "      <td>bibu</td>\n",
       "      <td>hyd</td>\n",
       "      <td>5419</td>\n",
       "    </tr>\n",
       "    <tr>\n",
       "      <th>6</th>\n",
       "      <td>hr</td>\n",
       "      <td>651</td>\n",
       "      <td>ram</td>\n",
       "      <td>bglore</td>\n",
       "      <td>3130</td>\n",
       "    </tr>\n",
       "    <tr>\n",
       "      <th>7</th>\n",
       "      <td>admin</td>\n",
       "      <td>541</td>\n",
       "      <td>leo</td>\n",
       "      <td>chennai</td>\n",
       "      <td>4913</td>\n",
       "    </tr>\n",
       "    <tr>\n",
       "      <th>8</th>\n",
       "      <td>sales</td>\n",
       "      <td>652</td>\n",
       "      <td>karthik</td>\n",
       "      <td>bglore</td>\n",
       "      <td>3405</td>\n",
       "    </tr>\n",
       "  </tbody>\n",
       "</table>\n",
       "</div>"
      ],
      "text/plain": [
       "   edept  eid    ename    ecity  ecost\n",
       "0  sales  101      raj     pune   1000\n",
       "1   prod  102      leo   bglore   2301\n",
       "2   prod  230      raj     pune   2300\n",
       "3  sales  450     shan   bglore   3401\n",
       "4     HR  542      anu   mumbai   4590\n",
       "5  sales  321     bibu      hyd   5419\n",
       "6     hr  651      ram   bglore   3130\n",
       "7  admin  541      leo  chennai   4913\n",
       "8  sales  652  karthik   bglore   3405"
      ]
     },
     "execution_count": 15,
     "metadata": {},
     "output_type": "execute_result"
    }
   ],
   "source": [
    "pd.read_excel('t1.xlsx',sheet_name='Sheet1')"
   ]
  },
  {
   "cell_type": "code",
   "execution_count": null,
   "id": "8b23853e-c256-4918-aef0-5af0f425d8f8",
   "metadata": {},
   "outputs": [],
   "source": [
    "numpy - computing\n",
    "pandas - analysis\n",
    "matplotlib - visualization\n",
    "----------\n",
    "matplotlib - package - directory\n",
    "   |->pyplot - pyplot.py\n",
    "                 |->plot() scatter() bar() hist() .. fx()"
   ]
  },
  {
   "cell_type": "code",
   "execution_count": 16,
   "id": "309e7df4-2dba-4753-8dca-f856499a148a",
   "metadata": {},
   "outputs": [
    {
     "data": {
      "text/plain": [
       "<module 'matplotlib.pyplot' from 'C:\\\\ProgramData\\\\anaconda3\\\\Lib\\\\site-packages\\\\matplotlib\\\\pyplot.py'>"
      ]
     },
     "execution_count": 16,
     "metadata": {},
     "output_type": "execute_result"
    }
   ],
   "source": [
    "import matplotlib.pyplot as plt\n",
    "plt\n"
   ]
  },
  {
   "cell_type": "code",
   "execution_count": 17,
   "id": "8eaef3cc-dd86-4e1d-b9fb-80142a902dda",
   "metadata": {},
   "outputs": [
    {
     "data": {
      "text/plain": [
       "[<matplotlib.lines.Line2D at 0x1a61b5ddd10>]"
      ]
     },
     "execution_count": 17,
     "metadata": {},
     "output_type": "execute_result"
    },
    {
     "data": {
      "image/png": "[encoded data removed]",
      "text/plain": [
       "<Figure size 640x480 with 1 Axes>"
      ]
     },
     "metadata": {},
     "output_type": "display_data"
    }
   ],
   "source": [
    "plt.plot([1,3,5,7],[10,15,2,35])\n",
    "plt.show()"
   ]
  },
  {
   "cell_type": "code",
   "execution_count": 20,
   "id": "62038581-bbab-45b2-9220-396bb7dde15d",
   "metadata": {},
   "outputs": [
    {
     "data": {
      "text/plain": [
       "<Figure size 100x200 with 0 Axes>"
      ]
     },
     "execution_count": 20,
     "metadata": {},
     "output_type": "execute_result"
    },
    {
     "data": {
      "text/plain": [
       "<Figure size 100x200 with 0 Axes>"
      ]
     },
     "metadata": {},
     "output_type": "display_data"
    }
   ],
   "source": [
    "plt.figure(figsize=(1,2))\n",
    "#plt.plot([1,3,5,7],[10,15,2,35])"
   ]
  },
  {
   "cell_type": "code",
   "execution_count": 21,
   "id": "88833da7-f9bc-45f9-a09e-130eb5b910f1",
   "metadata": {},
   "outputs": [
    {
     "data": {
      "text/plain": [
       "<Figure size 1000x2000 with 0 Axes>"
      ]
     },
     "execution_count": 21,
     "metadata": {},
     "output_type": "execute_result"
    },
    {
     "data": {
      "text/plain": [
       "<Figure size 1000x2000 with 0 Axes>"
      ]
     },
     "metadata": {},
     "output_type": "display_data"
    }
   ],
   "source": [
    "plt.figure(figsize=(10,20))"
   ]
  },
  {
   "cell_type": "code",
   "execution_count": 23,
   "id": "72cb8430-4691-4ad6-857f-14b5bb252ee0",
   "metadata": {},
   "outputs": [
    {
     "data": {
      "text/plain": [
       "[<matplotlib.lines.Line2D at 0x1a61b731450>]"
      ]
     },
     "execution_count": 23,
     "metadata": {},
     "output_type": "execute_result"
    },
    {
     "data": {
      "image/png": "[encoded data removed]",
      "text/plain": [
       "<Figure size 200x500 with 1 Axes>"
      ]
     },
     "metadata": {},
     "output_type": "display_data"
    }
   ],
   "source": [
    "plt.figure(figsize=(2,5))\n",
    "plt.plot([1,3,5,7],[10,15,2,35])"
   ]
  },
  {
   "cell_type": "code",
   "execution_count": 24,
   "id": "a190dc00-70c4-4de0-8d60-c95424650f3e",
   "metadata": {},
   "outputs": [
    {
     "data": {
      "text/plain": [
       "[<matplotlib.lines.Line2D at 0x1a61b789bd0>]"
      ]
     },
     "execution_count": 24,
     "metadata": {},
     "output_type": "execute_result"
    },
    {
     "data": {
      "image/png": "[encoded data removed]",
      "text/plain": [
       "<Figure size 640x480 with 1 Axes>"
      ]
     },
     "metadata": {},
     "output_type": "display_data"
    }
   ],
   "source": [
    "plt.plot([10,12,15],[100,110,25])"
   ]
  },
  {
   "cell_type": "code",
   "execution_count": 27,
   "id": "75988e6f-aa45-4389-a716-3bcbc0eda681",
   "metadata": {},
   "outputs": [
    {
     "data": {
      "text/plain": [
       "[<matplotlib.lines.Line2D at 0x1a61c7bead0>]"
      ]
     },
     "execution_count": 27,
     "metadata": {},
     "output_type": "execute_result"
    },
    {
     "data": {
      "image/png": "[encoded data removed]",
      "text/plain": [
       "<Figure size 300x500 with 1 Axes>"
      ]
     },
     "metadata": {},
     "output_type": "display_data"
    }
   ],
   "source": [
    "plt.figure(figsize=(3,5))\n",
    "plt.plot([10,12,15],[100,110,25],marker='o')"
   ]
  },
  {
   "cell_type": "code",
   "execution_count": 29,
   "id": "6dba744f-dbeb-40ac-80ec-45fa14bc07f9",
   "metadata": {},
   "outputs": [],
   "source": [
    "#help(plt.plot)"
   ]
  },
  {
   "cell_type": "code",
   "execution_count": 30,
   "id": "4ceadde4-d86b-468c-a849-503b17940d9e",
   "metadata": {},
   "outputs": [
    {
     "data": {
      "text/plain": [
       "[<matplotlib.lines.Line2D at 0x1a61c7fa350>]"
      ]
     },
     "execution_count": 30,
     "metadata": {},
     "output_type": "execute_result"
    },
    {
     "data": {
      "image/png": "[encoded data removed]",
      "text/plain": [
       "<Figure size 640x480 with 1 Axes>"
      ]
     },
     "metadata": {},
     "output_type": "display_data"
    }
   ],
   "source": [
    "plt.plot([10,12,15],[100,110,25],marker='s')"
   ]
  },
  {
   "cell_type": "code",
   "execution_count": 31,
   "id": "70fe87ce-5c13-4a01-bf36-04d771e4ce81",
   "metadata": {
    "scrolled": true
   },
   "outputs": [
    {
     "data": {
      "text/plain": [
       "[<matplotlib.lines.Line2D at 0x1a61c86b250>]"
      ]
     },
     "execution_count": 31,
     "metadata": {},
     "output_type": "execute_result"
    },
    {
     "data": {
      "image/png": "[encoded data removed]",
      "text/plain": [
       "<Figure size 640x480 with 1 Axes>"
      ]
     },
     "metadata": {},
     "output_type": "display_data"
    }
   ],
   "source": [
    "plt.plot([10,12,15],[100,110,25],marker='s',color='red')"
   ]
  },
  {
   "cell_type": "code",
   "execution_count": 33,
   "id": "f76b8f2b-cd66-46e0-b600-d0ad168c9c9f",
   "metadata": {},
   "outputs": [
    {
     "data": {
      "text/plain": [
       "[<matplotlib.lines.Line2D at 0x1a61c8dc550>]"
      ]
     },
     "execution_count": 33,
     "metadata": {},
     "output_type": "execute_result"
    },
    {
     "data": {
      "image/png": "[encoded data removed]",
      "text/plain": [
       "<Figure size 640x480 with 1 Axes>"
      ]
     },
     "metadata": {},
     "output_type": "display_data"
    }
   ],
   "source": [
    "plt.plot([10,12,15],[100,110,25],'r',marker='s') # red 'r'"
   ]
  },
  {
   "cell_type": "code",
   "execution_count": 34,
   "id": "43eeb690-2113-47c2-9dfa-95afe4351356",
   "metadata": {},
   "outputs": [
    {
     "data": {
      "text/plain": [
       "[<matplotlib.lines.Line2D at 0x1a61ca69450>]"
      ]
     },
     "execution_count": 34,
     "metadata": {},
     "output_type": "execute_result"
    },
    {
     "data": {
      "image/png": "[encoded data removed]",
      "text/plain": [
       "<Figure size 640x480 with 1 Axes>"
      ]
     },
     "metadata": {},
     "output_type": "display_data"
    }
   ],
   "source": [
    "plt.plot([10,12,15],[100,110,25],'r--',marker='s') # red 'r'"
   ]
  },
  {
   "cell_type": "code",
   "execution_count": 38,
   "id": "80a73164-f9a9-4499-a1f0-ac6f166e145c",
   "metadata": {},
   "outputs": [
    {
     "data": {
      "text/plain": [
       "Text(0, 0.5, 'Cost')"
      ]
     },
     "execution_count": 38,
     "metadata": {},
     "output_type": "execute_result"
    },
    {
     "data": {
      "image/png": "[encoded data removed]",
      "text/plain": [
       "<Figure size 500x800 with 1 Axes>"
      ]
     },
     "metadata": {},
     "output_type": "display_data"
    }
   ],
   "source": [
    "plt.figure(figsize=(5,8))\n",
    "plt.plot([10,12,20,25],[100,110,150,95],'o-r',ms=10)\n",
    "plt.title('prodA sales report:-')\n",
    "plt.xlabel('Sales Count')\n",
    "plt.ylabel('Cost')"
   ]
  },
  {
   "cell_type": "code",
   "execution_count": null,
   "id": "6cf4ab8f-1485-4392-a0f7-daccbd15a83d",
   "metadata": {},
   "outputs": [],
   "source": []
  }
 ],
 "metadata": {
  "kernelspec": {
   "display_name": "Python [conda env:base] *",
   "language": "python",
   "name": "conda-base-py"
  },
  "language_info": {
   "codemirror_mode": {
    "name": "ipython",
    "version": 3
   },
   "file_extension": ".py",
   "mimetype": "text/x-python",
   "name": "python",
   "nbconvert_exporter": "python",
   "pygments_lexer": "ipython3",
   "version": "3.13.5"
  }
 },
 "nbformat": 4,
 "nbformat_minor": 5
}
